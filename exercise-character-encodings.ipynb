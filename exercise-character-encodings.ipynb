{
 "cells": [
  {
   "cell_type": "markdown",
   "id": "1d000d0e",
   "metadata": {
    "papermill": {
     "duration": 0.015685,
     "end_time": "2021-12-26T05:59:04.171195",
     "exception": false,
     "start_time": "2021-12-26T05:59:04.155510",
     "status": "completed"
    },
    "tags": []
   },
   "source": [
    "**This notebook is an exercise in the [Data Cleaning](https://www.kaggle.com/learn/data-cleaning) course.  You can reference the tutorial at [this link](https://www.kaggle.com/alexisbcook/character-encodings).**\n",
    "\n",
    "---\n"
   ]
  },
  {
   "cell_type": "markdown",
   "id": "2ce18b25",
   "metadata": {
    "papermill": {
     "duration": 0.014157,
     "end_time": "2021-12-26T05:59:04.200149",
     "exception": false,
     "start_time": "2021-12-26T05:59:04.185992",
     "status": "completed"
    },
    "tags": []
   },
   "source": [
    "In this exercise, you'll apply what you learned in the **Character encodings** tutorial.\n",
    "\n",
    "# Setup\n",
    "\n",
    "The questions below will give you feedback on your work. Run the following cell to set up the feedback system."
   ]
  },
  {
   "cell_type": "code",
   "execution_count": 1,
   "id": "736f7eab",
   "metadata": {
    "execution": {
     "iopub.execute_input": "2021-12-26T05:59:04.235527Z",
     "iopub.status.busy": "2021-12-26T05:59:04.233714Z",
     "iopub.status.idle": "2021-12-26T05:59:04.317541Z",
     "shell.execute_reply": "2021-12-26T05:59:04.318090Z",
     "shell.execute_reply.started": "2021-12-26T05:41:56.929690Z"
    },
    "papermill": {
     "duration": 0.103698,
     "end_time": "2021-12-26T05:59:04.318394",
     "exception": false,
     "start_time": "2021-12-26T05:59:04.214696",
     "status": "completed"
    },
    "tags": []
   },
   "outputs": [
    {
     "name": "stdout",
     "output_type": "stream",
     "text": [
      "Setup Complete\n"
     ]
    }
   ],
   "source": [
    "from learntools.core import binder\n",
    "binder.bind(globals())\n",
    "from learntools.data_cleaning.ex4 import *\n",
    "print(\"Setup Complete\")"
   ]
  },
  {
   "cell_type": "markdown",
   "id": "332317dd",
   "metadata": {
    "papermill": {
     "duration": 0.014577,
     "end_time": "2021-12-26T05:59:04.348252",
     "exception": false,
     "start_time": "2021-12-26T05:59:04.333675",
     "status": "completed"
    },
    "tags": []
   },
   "source": [
    "# Get our environment set up\n",
    "\n",
    "The first thing we'll need to do is load in the libraries we'll be using."
   ]
  },
  {
   "cell_type": "code",
   "execution_count": 2,
   "id": "6b757f59",
   "metadata": {
    "execution": {
     "iopub.execute_input": "2021-12-26T05:59:04.381784Z",
     "iopub.status.busy": "2021-12-26T05:59:04.380763Z",
     "iopub.status.idle": "2021-12-26T05:59:04.384990Z",
     "shell.execute_reply": "2021-12-26T05:59:04.385525Z",
     "shell.execute_reply.started": "2021-12-26T05:42:03.491855Z"
    },
    "papermill": {
     "duration": 0.02268,
     "end_time": "2021-12-26T05:59:04.385688",
     "exception": false,
     "start_time": "2021-12-26T05:59:04.363008",
     "status": "completed"
    },
    "tags": []
   },
   "outputs": [],
   "source": [
    "# modules we'll use\n",
    "import pandas as pd\n",
    "import numpy as np\n",
    "\n",
    "# helpful character encoding module\n",
    "import chardet\n",
    "\n",
    "# set seed for reproducibility\n",
    "np.random.seed(0)"
   ]
  },
  {
   "cell_type": "markdown",
   "id": "f23713c5",
   "metadata": {
    "papermill": {
     "duration": 0.014584,
     "end_time": "2021-12-26T05:59:04.414915",
     "exception": false,
     "start_time": "2021-12-26T05:59:04.400331",
     "status": "completed"
    },
    "tags": []
   },
   "source": [
    "# 1) What are encodings?\n",
    "\n",
    "You're working with a dataset composed of bytes.  Run the code cell below to print a sample entry."
   ]
  },
  {
   "cell_type": "code",
   "execution_count": 3,
   "id": "6f2d7724",
   "metadata": {
    "execution": {
     "iopub.execute_input": "2021-12-26T05:59:04.449117Z",
     "iopub.status.busy": "2021-12-26T05:59:04.448130Z",
     "iopub.status.idle": "2021-12-26T05:59:04.453474Z",
     "shell.execute_reply": "2021-12-26T05:59:04.454099Z",
     "shell.execute_reply.started": "2021-12-26T05:42:09.071417Z"
    },
    "papermill": {
     "duration": 0.023817,
     "end_time": "2021-12-26T05:59:04.454262",
     "exception": false,
     "start_time": "2021-12-26T05:59:04.430445",
     "status": "completed"
    },
    "tags": []
   },
   "outputs": [
    {
     "name": "stdout",
     "output_type": "stream",
     "text": [
      "b'\\xa7A\\xa6n'\n",
      "data type: <class 'bytes'>\n"
     ]
    }
   ],
   "source": [
    "sample_entry = b'\\xa7A\\xa6n'\n",
    "print(sample_entry)\n",
    "print('data type:', type(sample_entry))"
   ]
  },
  {
   "cell_type": "markdown",
   "id": "f5ab4612",
   "metadata": {
    "papermill": {
     "duration": 0.014796,
     "end_time": "2021-12-26T05:59:04.484171",
     "exception": false,
     "start_time": "2021-12-26T05:59:04.469375",
     "status": "completed"
    },
    "tags": []
   },
   "source": [
    "You notice that it doesn't use the standard UTF-8 encoding. \n",
    "\n",
    "Use the next code cell to create a variable `new_entry` that changes the encoding from `\"big5-tw\"` to `\"utf-8\"`.  `new_entry` should have the bytes datatype."
   ]
  },
  {
   "cell_type": "code",
   "execution_count": 4,
   "id": "7fd1c86f",
   "metadata": {
    "execution": {
     "iopub.execute_input": "2021-12-26T05:59:04.517757Z",
     "iopub.status.busy": "2021-12-26T05:59:04.517152Z",
     "iopub.status.idle": "2021-12-26T05:59:04.525841Z",
     "shell.execute_reply": "2021-12-26T05:59:04.526420Z",
     "shell.execute_reply.started": "2021-12-26T05:42:14.651302Z"
    },
    "papermill": {
     "duration": 0.027064,
     "end_time": "2021-12-26T05:59:04.526580",
     "exception": false,
     "start_time": "2021-12-26T05:59:04.499516",
     "status": "completed"
    },
    "tags": []
   },
   "outputs": [
    {
     "data": {
      "application/javascript": [
       "parent.postMessage({\"jupyterEvent\": \"custom.exercise_interaction\", \"data\": {\"outcomeType\": 1, \"valueTowardsCompletion\": 0.3333333333333333, \"interactionType\": 1, \"questionType\": 1, \"questionId\": \"1_EncodingsIntro\", \"learnToolsVersion\": \"0.3.4\", \"failureMessage\": \"\", \"exceptionClass\": \"\", \"trace\": \"\"}}, \"*\")"
      ],
      "text/plain": [
       "<IPython.core.display.Javascript object>"
      ]
     },
     "metadata": {},
     "output_type": "display_data"
    },
    {
     "data": {
      "text/markdown": [
       "<span style=\"color:#33cc33\">Correct</span>"
      ],
      "text/plain": [
       "Correct"
      ]
     },
     "metadata": {},
     "output_type": "display_data"
    }
   ],
   "source": [
    "before = sample_entry.decode(\"big5-tw\")\n",
    "new_entry = before.encode('utf-8')\n",
    "\n",
    "\n",
    "type(new_entry)\n",
    "\n",
    "# Check your answer\n",
    "q1.check()"
   ]
  },
  {
   "cell_type": "code",
   "execution_count": 5,
   "id": "7329bbb1",
   "metadata": {
    "execution": {
     "iopub.execute_input": "2021-12-26T05:59:04.561572Z",
     "iopub.status.busy": "2021-12-26T05:59:04.560979Z",
     "iopub.status.idle": "2021-12-26T05:59:04.563736Z",
     "shell.execute_reply": "2021-12-26T05:59:04.564357Z",
     "shell.execute_reply.started": "2021-12-26T04:52:54.656658Z"
    },
    "papermill": {
     "duration": 0.021823,
     "end_time": "2021-12-26T05:59:04.564515",
     "exception": false,
     "start_time": "2021-12-26T05:59:04.542692",
     "status": "completed"
    },
    "tags": []
   },
   "outputs": [],
   "source": [
    "# Lines below will give you a hint or solution code\n",
    "#q1.hint()\n",
    "#q1.solution()"
   ]
  },
  {
   "cell_type": "markdown",
   "id": "15f42225",
   "metadata": {
    "papermill": {
     "duration": 0.016079,
     "end_time": "2021-12-26T05:59:04.596693",
     "exception": false,
     "start_time": "2021-12-26T05:59:04.580614",
     "status": "completed"
    },
    "tags": []
   },
   "source": [
    "# 2) Reading in files with encoding problems\n",
    "\n",
    "Use the code cell below to read in this file at path `\"../input/fatal-police-shootings-in-the-us/PoliceKillingsUS.csv\"`.  \n",
    "\n",
    "Figure out what the correct encoding should be and read in the file to a DataFrame `police_killings`."
   ]
  },
  {
   "cell_type": "code",
   "execution_count": 6,
   "id": "ea73c37d",
   "metadata": {
    "execution": {
     "iopub.execute_input": "2021-12-26T05:59:04.632773Z",
     "iopub.status.busy": "2021-12-26T05:59:04.632153Z",
     "iopub.status.idle": "2021-12-26T05:59:04.638683Z",
     "shell.execute_reply": "2021-12-26T05:59:04.639342Z",
     "shell.execute_reply.started": "2021-12-26T05:42:29.692544Z"
    },
    "papermill": {
     "duration": 0.026425,
     "end_time": "2021-12-26T05:59:04.639512",
     "exception": false,
     "start_time": "2021-12-26T05:59:04.613087",
     "status": "completed"
    },
    "tags": []
   },
   "outputs": [
    {
     "name": "stdout",
     "output_type": "stream",
     "text": [
      "{'encoding': 'ascii', 'confidence': 1.0, 'language': ''}\n"
     ]
    }
   ],
   "source": [
    "# Opening the file path so that chardet can detect the correct method for encoding\n",
    "\n",
    "with open(\"../input/fatal-police-shootings-in-the-us/PoliceKillingsUS.csv\",'rb') as rawdata:\n",
    "    result = chardet.detect(rawdata.read(10000))\n",
    "\n",
    "print(result)"
   ]
  },
  {
   "cell_type": "markdown",
   "id": "195d555f",
   "metadata": {
    "papermill": {
     "duration": 0.016169,
     "end_time": "2021-12-26T05:59:04.672292",
     "exception": false,
     "start_time": "2021-12-26T05:59:04.656123",
     "status": "completed"
    },
    "tags": []
   },
   "source": [
    "Here according to result chardet has said is 100% confident that we should use 'ascii' encoder."
   ]
  },
  {
   "cell_type": "markdown",
   "id": "324da342",
   "metadata": {
    "papermill": {
     "duration": 0.017839,
     "end_time": "2021-12-26T05:59:04.709327",
     "exception": false,
     "start_time": "2021-12-26T05:59:04.691488",
     "status": "completed"
    },
    "tags": []
   },
   "source": [
    "Sadly we get an error here so chardet is not able to tell which encoding method to use."
   ]
  },
  {
   "cell_type": "code",
   "execution_count": 7,
   "id": "48288509",
   "metadata": {
    "execution": {
     "iopub.execute_input": "2021-12-26T05:59:04.756732Z",
     "iopub.status.busy": "2021-12-26T05:59:04.755679Z",
     "iopub.status.idle": "2021-12-26T05:59:04.784366Z",
     "shell.execute_reply": "2021-12-26T05:59:04.784824Z",
     "shell.execute_reply.started": "2021-12-26T05:52:45.371041Z"
    },
    "papermill": {
     "duration": 0.052703,
     "end_time": "2021-12-26T05:59:04.785031",
     "exception": false,
     "start_time": "2021-12-26T05:59:04.732328",
     "status": "completed"
    },
    "tags": []
   },
   "outputs": [
    {
     "data": {
      "application/javascript": [
       "parent.postMessage({\"jupyterEvent\": \"custom.exercise_interaction\", \"data\": {\"outcomeType\": 1, \"valueTowardsCompletion\": 0.3333333333333333, \"interactionType\": 1, \"questionType\": 1, \"questionId\": \"2_ReadIn\", \"learnToolsVersion\": \"0.3.4\", \"failureMessage\": \"\", \"exceptionClass\": \"\", \"trace\": \"\"}}, \"*\")"
      ],
      "text/plain": [
       "<IPython.core.display.Javascript object>"
      ]
     },
     "metadata": {},
     "output_type": "display_data"
    },
    {
     "data": {
      "text/markdown": [
       "<span style=\"color:#33cc33\">Correct</span>"
      ],
      "text/plain": [
       "Correct"
      ]
     },
     "metadata": {},
     "output_type": "display_data"
    }
   ],
   "source": [
    "# let's use \"Windows-1252\"for encodeing\n",
    "\n",
    "\n",
    "police_killings = pd.read_csv(\"../input/fatal-police-shootings-in-the-us/PoliceKillingsUS.csv\",encoding = 'windows-1252')\n",
    "police_killings.head()\n",
    "\n",
    "# Check your answer\n",
    "q2.check()"
   ]
  },
  {
   "cell_type": "markdown",
   "id": "5a367810",
   "metadata": {
    "papermill": {
     "duration": 0.016935,
     "end_time": "2021-12-26T05:59:04.819320",
     "exception": false,
     "start_time": "2021-12-26T05:59:04.802385",
     "status": "completed"
    },
    "tags": []
   },
   "source": [
    "Feel free to use any additional code cells for supplemental work.  To get credit for finishing this question, you'll need to run `q2.check()` and get a result of **Correct**."
   ]
  },
  {
   "cell_type": "code",
   "execution_count": 8,
   "id": "c0f6d14c",
   "metadata": {
    "execution": {
     "iopub.execute_input": "2021-12-26T05:59:04.857045Z",
     "iopub.status.busy": "2021-12-26T05:59:04.856431Z",
     "iopub.status.idle": "2021-12-26T05:59:04.859234Z",
     "shell.execute_reply": "2021-12-26T05:59:04.859811Z"
    },
    "papermill": {
     "duration": 0.023478,
     "end_time": "2021-12-26T05:59:04.859993",
     "exception": false,
     "start_time": "2021-12-26T05:59:04.836515",
     "status": "completed"
    },
    "tags": []
   },
   "outputs": [],
   "source": [
    "# Lines below will give you a hint or solution code\n",
    "#q2.hint()\n",
    "#q2.solution()"
   ]
  },
  {
   "cell_type": "markdown",
   "id": "af9087c8",
   "metadata": {
    "papermill": {
     "duration": 0.018814,
     "end_time": "2021-12-26T05:59:04.896277",
     "exception": false,
     "start_time": "2021-12-26T05:59:04.877463",
     "status": "completed"
    },
    "tags": []
   },
   "source": [
    "# 3) Saving your files with UTF-8 encoding\n",
    "\n",
    "Save a version of the police killings dataset to CSV with UTF-8 encoding.  Your answer will be marked correct after saving this file.  \n",
    "\n",
    "Note: When using the `to_csv()` method, supply only the name of the file (e.g., `\"my_file.csv\"`).  This saves the file at the filepath `\"/kaggle/working/my_file.csv\"`."
   ]
  },
  {
   "cell_type": "code",
   "execution_count": 9,
   "id": "4b02d845",
   "metadata": {
    "execution": {
     "iopub.execute_input": "2021-12-26T05:59:04.937074Z",
     "iopub.status.busy": "2021-12-26T05:59:04.936433Z",
     "iopub.status.idle": "2021-12-26T05:59:04.981033Z",
     "shell.execute_reply": "2021-12-26T05:59:04.980487Z",
     "shell.execute_reply.started": "2021-12-26T05:54:20.500575Z"
    },
    "papermill": {
     "duration": 0.066618,
     "end_time": "2021-12-26T05:59:04.981180",
     "exception": false,
     "start_time": "2021-12-26T05:59:04.914562",
     "status": "completed"
    },
    "tags": []
   },
   "outputs": [
    {
     "data": {
      "application/javascript": [
       "parent.postMessage({\"jupyterEvent\": \"custom.exercise_interaction\", \"data\": {\"outcomeType\": 1, \"valueTowardsCompletion\": 0.3333333333333333, \"interactionType\": 1, \"questionType\": 2, \"questionId\": \"3_SaveCSV\", \"learnToolsVersion\": \"0.3.4\", \"failureMessage\": \"\", \"exceptionClass\": \"\", \"trace\": \"\"}}, \"*\")"
      ],
      "text/plain": [
       "<IPython.core.display.Javascript object>"
      ]
     },
     "metadata": {},
     "output_type": "display_data"
    },
    {
     "data": {
      "text/markdown": [
       "<span style=\"color:#33cc33\">Correct</span>"
      ],
      "text/plain": [
       "Correct"
      ]
     },
     "metadata": {},
     "output_type": "display_data"
    }
   ],
   "source": [
    "# TODO: Save the police killings dataset to CSV\n",
    "police_killings.to_csv(\"my_file.csv\")\n",
    "\n",
    "# Check your answer\n",
    "q3.check()"
   ]
  },
  {
   "cell_type": "code",
   "execution_count": 10,
   "id": "24f1031d",
   "metadata": {
    "execution": {
     "iopub.execute_input": "2021-12-26T05:59:05.022684Z",
     "iopub.status.busy": "2021-12-26T05:59:05.021769Z",
     "iopub.status.idle": "2021-12-26T05:59:05.024811Z",
     "shell.execute_reply": "2021-12-26T05:59:05.024179Z"
    },
    "papermill": {
     "duration": 0.025286,
     "end_time": "2021-12-26T05:59:05.024974",
     "exception": false,
     "start_time": "2021-12-26T05:59:04.999688",
     "status": "completed"
    },
    "tags": []
   },
   "outputs": [],
   "source": [
    "# Lines below will give you a hint or solution code\n",
    "#q3.hint()\n",
    "#q3.solution()"
   ]
  },
  {
   "cell_type": "markdown",
   "id": "9a9c294c",
   "metadata": {
    "papermill": {
     "duration": 0.019479,
     "end_time": "2021-12-26T05:59:05.063223",
     "exception": false,
     "start_time": "2021-12-26T05:59:05.043744",
     "status": "completed"
    },
    "tags": []
   },
   "source": [
    "# (Optional) More practice\n",
    "\n",
    "Check out [this dataset of files in different character encodings](https://www.kaggle.com/rtatman/character-encoding-examples). Can you read in all the files with their original encodings and them save them out as UTF-8 files?\n",
    "\n",
    "If you have a file that's in UTF-8 but has just a couple of weird-looking characters in it, you can try out the [ftfy module](https://ftfy.readthedocs.io/en/latest/#) and see if it helps. \n",
    "\n",
    "# Keep going\n",
    "\n",
    "In the final lesson, learn how to [**clean up inconsistent text entries**](https://www.kaggle.com/alexisbcook/inconsistent-data-entry) in your dataset."
   ]
  },
  {
   "cell_type": "markdown",
   "id": "013d9291",
   "metadata": {
    "papermill": {
     "duration": 0.019004,
     "end_time": "2021-12-26T05:59:05.101704",
     "exception": false,
     "start_time": "2021-12-26T05:59:05.082700",
     "status": "completed"
    },
    "tags": []
   },
   "source": [
    "---\n",
    "\n",
    "\n",
    "\n",
    "\n",
    "*Have questions or comments? Visit the [course discussion forum](https://www.kaggle.com/learn/data-cleaning/discussion) to chat with other learners.*"
   ]
  }
 ],
 "metadata": {
  "kernelspec": {
   "display_name": "Python 3",
   "language": "python",
   "name": "python3"
  },
  "language_info": {
   "codemirror_mode": {
    "name": "ipython",
    "version": 3
   },
   "file_extension": ".py",
   "mimetype": "text/x-python",
   "name": "python",
   "nbconvert_exporter": "python",
   "pygments_lexer": "ipython3",
   "version": "3.7.12"
  },
  "papermill": {
   "default_parameters": {},
   "duration": 11.392732,
   "end_time": "2021-12-26T05:59:05.730069",
   "environment_variables": {},
   "exception": null,
   "input_path": "__notebook__.ipynb",
   "output_path": "__notebook__.ipynb",
   "parameters": {},
   "start_time": "2021-12-26T05:58:54.337337",
   "version": "2.3.3"
  }
 },
 "nbformat": 4,
 "nbformat_minor": 5
}
