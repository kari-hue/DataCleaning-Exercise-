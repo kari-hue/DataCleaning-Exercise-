{
 "cells": [
  {
   "cell_type": "markdown",
   "id": "7bc5b7e1",
   "metadata": {
    "papermill": {
     "duration": 0.026001,
     "end_time": "2021-12-26T02:29:37.212077",
     "exception": false,
     "start_time": "2021-12-26T02:29:37.186076",
     "status": "completed"
    },
    "tags": []
   },
   "source": [
    "**This notebook is an exercise in the [Data Cleaning](https://www.kaggle.com/learn/data-cleaning) course.  You can reference the tutorial at [this link](https://www.kaggle.com/alexisbcook/handling-missing-values).**\n",
    "\n",
    "---\n"
   ]
  },
  {
   "cell_type": "markdown",
   "id": "06b9e9fa",
   "metadata": {
    "papermill": {
     "duration": 0.024751,
     "end_time": "2021-12-26T02:29:37.261935",
     "exception": false,
     "start_time": "2021-12-26T02:29:37.237184",
     "status": "completed"
    },
    "tags": []
   },
   "source": [
    "In this exercise, you'll apply what you learned in the **Handling missing values** tutorial.\n",
    "\n",
    "# Setup\n",
    "\n",
    "The questions below will give you feedback on your work. Run the following cell to set up the feedback system."
   ]
  },
  {
   "cell_type": "code",
   "execution_count": 1,
   "id": "8aaf91a2",
   "metadata": {
    "execution": {
     "iopub.execute_input": "2021-12-26T02:29:37.315595Z",
     "iopub.status.busy": "2021-12-26T02:29:37.314367Z",
     "iopub.status.idle": "2021-12-26T02:29:42.359827Z",
     "shell.execute_reply": "2021-12-26T02:29:42.360382Z",
     "shell.execute_reply.started": "2021-12-26T01:41:58.751140Z"
    },
    "papermill": {
     "duration": 5.074028,
     "end_time": "2021-12-26T02:29:42.360687",
     "exception": false,
     "start_time": "2021-12-26T02:29:37.286659",
     "status": "completed"
    },
    "tags": []
   },
   "outputs": [
    {
     "name": "stderr",
     "output_type": "stream",
     "text": [
      "/opt/conda/lib/python3.7/site-packages/ipykernel_launcher.py:3: DtypeWarning: Columns (22,32) have mixed types.Specify dtype option on import or set low_memory=False.\n",
      "  This is separate from the ipykernel package so we can avoid doing imports until\n"
     ]
    },
    {
     "name": "stdout",
     "output_type": "stream",
     "text": [
      "Setup Complete\n"
     ]
    }
   ],
   "source": [
    "from learntools.core import binder\n",
    "binder.bind(globals())\n",
    "from learntools.data_cleaning.ex1 import *\n",
    "print(\"Setup Complete\")"
   ]
  },
  {
   "cell_type": "markdown",
   "id": "0292e772",
   "metadata": {
    "papermill": {
     "duration": 0.025416,
     "end_time": "2021-12-26T02:29:42.412243",
     "exception": false,
     "start_time": "2021-12-26T02:29:42.386827",
     "status": "completed"
    },
    "tags": []
   },
   "source": [
    "# 1) Take a first look at the data\n",
    "\n",
    "Run the next code cell to load in the libraries and dataset you'll use to complete the exercise."
   ]
  },
  {
   "cell_type": "code",
   "execution_count": 2,
   "id": "2d074967",
   "metadata": {
    "execution": {
     "iopub.execute_input": "2021-12-26T02:29:42.468158Z",
     "iopub.status.busy": "2021-12-26T02:29:42.467479Z",
     "iopub.status.idle": "2021-12-26T02:29:44.122034Z",
     "shell.execute_reply": "2021-12-26T02:29:44.122546Z",
     "shell.execute_reply.started": "2021-12-26T01:42:19.209267Z"
    },
    "papermill": {
     "duration": 1.684518,
     "end_time": "2021-12-26T02:29:44.122728",
     "exception": false,
     "start_time": "2021-12-26T02:29:42.438210",
     "status": "completed"
    },
    "tags": []
   },
   "outputs": [
    {
     "name": "stderr",
     "output_type": "stream",
     "text": [
      "/opt/conda/lib/python3.7/site-packages/IPython/core/interactiveshell.py:3444: DtypeWarning: Columns (22,32) have mixed types.Specify dtype option on import or set low_memory=False.\n",
      "  exec(code_obj, self.user_global_ns, self.user_ns)\n"
     ]
    }
   ],
   "source": [
    "# modules we'll use\n",
    "import pandas as pd\n",
    "import numpy as np\n",
    "\n",
    "# read in all our data\n",
    "sf_permits = pd.read_csv(\"../input/building-permit-applications-data/Building_Permits.csv\")\n",
    "\n",
    "# set seed for reproducibility\n",
    "np.random.seed(0) "
   ]
  },
  {
   "cell_type": "markdown",
   "id": "8b037fad",
   "metadata": {
    "papermill": {
     "duration": 0.025427,
     "end_time": "2021-12-26T02:29:44.174028",
     "exception": false,
     "start_time": "2021-12-26T02:29:44.148601",
     "status": "completed"
    },
    "tags": []
   },
   "source": [
    "Use the code cell below to print the first five rows of the `sf_permits` DataFrame."
   ]
  },
  {
   "cell_type": "code",
   "execution_count": 3,
   "id": "6accc43c",
   "metadata": {
    "execution": {
     "iopub.execute_input": "2021-12-26T02:29:44.235617Z",
     "iopub.status.busy": "2021-12-26T02:29:44.234945Z",
     "iopub.status.idle": "2021-12-26T02:29:44.261798Z",
     "shell.execute_reply": "2021-12-26T02:29:44.262296Z",
     "shell.execute_reply.started": "2021-12-26T01:42:50.089548Z"
    },
    "papermill": {
     "duration": 0.062957,
     "end_time": "2021-12-26T02:29:44.262459",
     "exception": false,
     "start_time": "2021-12-26T02:29:44.199502",
     "status": "completed"
    },
    "tags": []
   },
   "outputs": [
    {
     "data": {
      "text/html": [
       "<div>\n",
       "<style scoped>\n",
       "    .dataframe tbody tr th:only-of-type {\n",
       "        vertical-align: middle;\n",
       "    }\n",
       "\n",
       "    .dataframe tbody tr th {\n",
       "        vertical-align: top;\n",
       "    }\n",
       "\n",
       "    .dataframe thead th {\n",
       "        text-align: right;\n",
       "    }\n",
       "</style>\n",
       "<table border=\"1\" class=\"dataframe\">\n",
       "  <thead>\n",
       "    <tr style=\"text-align: right;\">\n",
       "      <th></th>\n",
       "      <th>Permit Number</th>\n",
       "      <th>Permit Type</th>\n",
       "      <th>Permit Type Definition</th>\n",
       "      <th>Permit Creation Date</th>\n",
       "      <th>Block</th>\n",
       "      <th>Lot</th>\n",
       "      <th>Street Number</th>\n",
       "      <th>Street Number Suffix</th>\n",
       "      <th>Street Name</th>\n",
       "      <th>Street Suffix</th>\n",
       "      <th>...</th>\n",
       "      <th>Existing Construction Type</th>\n",
       "      <th>Existing Construction Type Description</th>\n",
       "      <th>Proposed Construction Type</th>\n",
       "      <th>Proposed Construction Type Description</th>\n",
       "      <th>Site Permit</th>\n",
       "      <th>Supervisor District</th>\n",
       "      <th>Neighborhoods - Analysis Boundaries</th>\n",
       "      <th>Zipcode</th>\n",
       "      <th>Location</th>\n",
       "      <th>Record ID</th>\n",
       "    </tr>\n",
       "  </thead>\n",
       "  <tbody>\n",
       "    <tr>\n",
       "      <th>0</th>\n",
       "      <td>201505065519</td>\n",
       "      <td>4</td>\n",
       "      <td>sign - erect</td>\n",
       "      <td>05/06/2015</td>\n",
       "      <td>0326</td>\n",
       "      <td>023</td>\n",
       "      <td>140</td>\n",
       "      <td>NaN</td>\n",
       "      <td>Ellis</td>\n",
       "      <td>St</td>\n",
       "      <td>...</td>\n",
       "      <td>3.0</td>\n",
       "      <td>constr type 3</td>\n",
       "      <td>NaN</td>\n",
       "      <td>NaN</td>\n",
       "      <td>NaN</td>\n",
       "      <td>3.0</td>\n",
       "      <td>Tenderloin</td>\n",
       "      <td>94102.0</td>\n",
       "      <td>(37.785719256680785, -122.40852313194863)</td>\n",
       "      <td>1380611233945</td>\n",
       "    </tr>\n",
       "    <tr>\n",
       "      <th>1</th>\n",
       "      <td>201604195146</td>\n",
       "      <td>4</td>\n",
       "      <td>sign - erect</td>\n",
       "      <td>04/19/2016</td>\n",
       "      <td>0306</td>\n",
       "      <td>007</td>\n",
       "      <td>440</td>\n",
       "      <td>NaN</td>\n",
       "      <td>Geary</td>\n",
       "      <td>St</td>\n",
       "      <td>...</td>\n",
       "      <td>3.0</td>\n",
       "      <td>constr type 3</td>\n",
       "      <td>NaN</td>\n",
       "      <td>NaN</td>\n",
       "      <td>NaN</td>\n",
       "      <td>3.0</td>\n",
       "      <td>Tenderloin</td>\n",
       "      <td>94102.0</td>\n",
       "      <td>(37.78733980600732, -122.41063199757738)</td>\n",
       "      <td>1420164406718</td>\n",
       "    </tr>\n",
       "    <tr>\n",
       "      <th>2</th>\n",
       "      <td>201605278609</td>\n",
       "      <td>3</td>\n",
       "      <td>additions alterations or repairs</td>\n",
       "      <td>05/27/2016</td>\n",
       "      <td>0595</td>\n",
       "      <td>203</td>\n",
       "      <td>1647</td>\n",
       "      <td>NaN</td>\n",
       "      <td>Pacific</td>\n",
       "      <td>Av</td>\n",
       "      <td>...</td>\n",
       "      <td>1.0</td>\n",
       "      <td>constr type 1</td>\n",
       "      <td>1.0</td>\n",
       "      <td>constr type 1</td>\n",
       "      <td>NaN</td>\n",
       "      <td>3.0</td>\n",
       "      <td>Russian Hill</td>\n",
       "      <td>94109.0</td>\n",
       "      <td>(37.7946573324287, -122.42232562979227)</td>\n",
       "      <td>1424856504716</td>\n",
       "    </tr>\n",
       "    <tr>\n",
       "      <th>3</th>\n",
       "      <td>201611072166</td>\n",
       "      <td>8</td>\n",
       "      <td>otc alterations permit</td>\n",
       "      <td>11/07/2016</td>\n",
       "      <td>0156</td>\n",
       "      <td>011</td>\n",
       "      <td>1230</td>\n",
       "      <td>NaN</td>\n",
       "      <td>Pacific</td>\n",
       "      <td>Av</td>\n",
       "      <td>...</td>\n",
       "      <td>5.0</td>\n",
       "      <td>wood frame (5)</td>\n",
       "      <td>5.0</td>\n",
       "      <td>wood frame (5)</td>\n",
       "      <td>NaN</td>\n",
       "      <td>3.0</td>\n",
       "      <td>Nob Hill</td>\n",
       "      <td>94109.0</td>\n",
       "      <td>(37.79595867909168, -122.41557405519474)</td>\n",
       "      <td>1443574295566</td>\n",
       "    </tr>\n",
       "    <tr>\n",
       "      <th>4</th>\n",
       "      <td>201611283529</td>\n",
       "      <td>6</td>\n",
       "      <td>demolitions</td>\n",
       "      <td>11/28/2016</td>\n",
       "      <td>0342</td>\n",
       "      <td>001</td>\n",
       "      <td>950</td>\n",
       "      <td>NaN</td>\n",
       "      <td>Market</td>\n",
       "      <td>St</td>\n",
       "      <td>...</td>\n",
       "      <td>3.0</td>\n",
       "      <td>constr type 3</td>\n",
       "      <td>NaN</td>\n",
       "      <td>NaN</td>\n",
       "      <td>NaN</td>\n",
       "      <td>6.0</td>\n",
       "      <td>Tenderloin</td>\n",
       "      <td>94102.0</td>\n",
       "      <td>(37.78315261897309, -122.40950883997789)</td>\n",
       "      <td>144548169992</td>\n",
       "    </tr>\n",
       "  </tbody>\n",
       "</table>\n",
       "<p>5 rows × 43 columns</p>\n",
       "</div>"
      ],
      "text/plain": [
       "  Permit Number  Permit Type            Permit Type Definition  \\\n",
       "0  201505065519            4                      sign - erect   \n",
       "1  201604195146            4                      sign - erect   \n",
       "2  201605278609            3  additions alterations or repairs   \n",
       "3  201611072166            8            otc alterations permit   \n",
       "4  201611283529            6                       demolitions   \n",
       "\n",
       "  Permit Creation Date Block  Lot  Street Number Street Number Suffix  \\\n",
       "0           05/06/2015  0326  023            140                  NaN   \n",
       "1           04/19/2016  0306  007            440                  NaN   \n",
       "2           05/27/2016  0595  203           1647                  NaN   \n",
       "3           11/07/2016  0156  011           1230                  NaN   \n",
       "4           11/28/2016  0342  001            950                  NaN   \n",
       "\n",
       "  Street Name Street Suffix  ...  Existing Construction Type  \\\n",
       "0       Ellis            St  ...                         3.0   \n",
       "1       Geary            St  ...                         3.0   \n",
       "2     Pacific            Av  ...                         1.0   \n",
       "3     Pacific            Av  ...                         5.0   \n",
       "4      Market            St  ...                         3.0   \n",
       "\n",
       "  Existing Construction Type Description Proposed Construction Type  \\\n",
       "0                          constr type 3                        NaN   \n",
       "1                          constr type 3                        NaN   \n",
       "2                          constr type 1                        1.0   \n",
       "3                         wood frame (5)                        5.0   \n",
       "4                          constr type 3                        NaN   \n",
       "\n",
       "  Proposed Construction Type Description Site Permit Supervisor District  \\\n",
       "0                                    NaN         NaN                 3.0   \n",
       "1                                    NaN         NaN                 3.0   \n",
       "2                          constr type 1         NaN                 3.0   \n",
       "3                         wood frame (5)         NaN                 3.0   \n",
       "4                                    NaN         NaN                 6.0   \n",
       "\n",
       "  Neighborhoods - Analysis Boundaries  Zipcode  \\\n",
       "0                          Tenderloin  94102.0   \n",
       "1                          Tenderloin  94102.0   \n",
       "2                        Russian Hill  94109.0   \n",
       "3                            Nob Hill  94109.0   \n",
       "4                          Tenderloin  94102.0   \n",
       "\n",
       "                                    Location      Record ID  \n",
       "0  (37.785719256680785, -122.40852313194863)  1380611233945  \n",
       "1   (37.78733980600732, -122.41063199757738)  1420164406718  \n",
       "2    (37.7946573324287, -122.42232562979227)  1424856504716  \n",
       "3   (37.79595867909168, -122.41557405519474)  1443574295566  \n",
       "4   (37.78315261897309, -122.40950883997789)   144548169992  \n",
       "\n",
       "[5 rows x 43 columns]"
      ]
     },
     "execution_count": 3,
     "metadata": {},
     "output_type": "execute_result"
    }
   ],
   "source": [
    "# TODO: Your code here!\n",
    "sf_permits.head()"
   ]
  },
  {
   "cell_type": "markdown",
   "id": "3c62a909",
   "metadata": {
    "papermill": {
     "duration": 0.026193,
     "end_time": "2021-12-26T02:29:44.316508",
     "exception": false,
     "start_time": "2021-12-26T02:29:44.290315",
     "status": "completed"
    },
    "tags": []
   },
   "source": [
    "Does the dataset have any missing values?  Once you have an answer, run the code cell below to get credit for your work."
   ]
  },
  {
   "cell_type": "code",
   "execution_count": 4,
   "id": "443471f0",
   "metadata": {
    "execution": {
     "iopub.execute_input": "2021-12-26T02:29:44.374016Z",
     "iopub.status.busy": "2021-12-26T02:29:44.372041Z",
     "iopub.status.idle": "2021-12-26T02:29:44.376902Z",
     "shell.execute_reply": "2021-12-26T02:29:44.377436Z",
     "shell.execute_reply.started": "2021-12-26T01:47:04.108243Z"
    },
    "papermill": {
     "duration": 0.034703,
     "end_time": "2021-12-26T02:29:44.377595",
     "exception": false,
     "start_time": "2021-12-26T02:29:44.342892",
     "status": "completed"
    },
    "tags": []
   },
   "outputs": [
    {
     "data": {
      "text/plain": [
       "(198900, 43)"
      ]
     },
     "execution_count": 4,
     "metadata": {},
     "output_type": "execute_result"
    }
   ],
   "source": [
    "#Let's observe the shape of our dataset\n",
    "\n",
    "sf_permits.shape"
   ]
  },
  {
   "cell_type": "markdown",
   "id": "59b63b8a",
   "metadata": {
    "papermill": {
     "duration": 0.026506,
     "end_time": "2021-12-26T02:29:44.430892",
     "exception": false,
     "start_time": "2021-12-26T02:29:44.404386",
     "status": "completed"
    },
    "tags": []
   },
   "source": [
    "We have 43 columns and 198900 rows."
   ]
  },
  {
   "cell_type": "markdown",
   "id": "fb4ca7a4",
   "metadata": {
    "papermill": {
     "duration": 0.026409,
     "end_time": "2021-12-26T02:29:44.484046",
     "exception": false,
     "start_time": "2021-12-26T02:29:44.457637",
     "status": "completed"
    },
    "tags": []
   },
   "source": []
  },
  {
   "cell_type": "markdown",
   "id": "d773f092",
   "metadata": {
    "papermill": {
     "duration": 0.026442,
     "end_time": "2021-12-26T02:29:44.537205",
     "exception": false,
     "start_time": "2021-12-26T02:29:44.510763",
     "status": "completed"
    },
    "tags": []
   },
   "source": []
  },
  {
   "cell_type": "code",
   "execution_count": 5,
   "id": "0312aadf",
   "metadata": {
    "execution": {
     "iopub.execute_input": "2021-12-26T02:29:44.597835Z",
     "iopub.status.busy": "2021-12-26T02:29:44.597214Z",
     "iopub.status.idle": "2021-12-26T02:29:45.108040Z",
     "shell.execute_reply": "2021-12-26T02:29:45.109038Z",
     "shell.execute_reply.started": "2021-12-26T01:52:00.633216Z"
    },
    "papermill": {
     "duration": 0.54173,
     "end_time": "2021-12-26T02:29:45.109371",
     "exception": false,
     "start_time": "2021-12-26T02:29:44.567641",
     "status": "completed"
    },
    "tags": []
   },
   "outputs": [
    {
     "name": "stdout",
     "output_type": "stream",
     "text": [
      "Permit Number                                  0\n",
      "Permit Type                                    0\n",
      "Permit Type Definition                         0\n",
      "Permit Creation Date                           0\n",
      "Block                                          0\n",
      "Lot                                            0\n",
      "Street Number                                  0\n",
      "Street Number Suffix                      196684\n",
      "Street Name                                    0\n",
      "Street Suffix                               2768\n",
      "Unit                                      169421\n",
      "Unit Suffix                               196939\n",
      "Description                                  290\n",
      "Current Status                                 0\n",
      "Current Status Date                            0\n",
      "Filed Date                                     0\n",
      "Issued Date                                14940\n",
      "Completed Date                            101709\n",
      "First Construction Document Date           14946\n",
      "Structural Notification                   191978\n",
      "Number of Existing Stories                 42784\n",
      "Number of Proposed Stories                 42868\n",
      "Voluntary Soft-Story Retrofit             198865\n",
      "Fire Only Permit                          180073\n",
      "Permit Expiration Date                     51880\n",
      "Estimated Cost                             38066\n",
      "Revised Cost                                6066\n",
      "Existing Use                               41114\n",
      "Existing Units                             51538\n",
      "Proposed Use                               42439\n",
      "Proposed Units                             50911\n",
      "Plansets                                   37309\n",
      "TIDF Compliance                           198898\n",
      "Existing Construction Type                 43366\n",
      "Existing Construction Type Description     43366\n",
      "Proposed Construction Type                 43162\n",
      "Proposed Construction Type Description     43162\n",
      "Site Permit                               193541\n",
      "Supervisor District                         1717\n",
      "Neighborhoods - Analysis Boundaries         1725\n",
      "Zipcode                                     1716\n",
      "Location                                    1700\n",
      "Record ID                                      0\n",
      "dtype: int64\n"
     ]
    }
   ],
   "source": [
    "# Checking for any Null values\n",
    "\n",
    "missing_values_count = sf_permits.isnull().sum()\n",
    "print(missing_values_count)\n"
   ]
  },
  {
   "cell_type": "markdown",
   "id": "218a9ebb",
   "metadata": {
    "papermill": {
     "duration": 0.02707,
     "end_time": "2021-12-26T02:29:45.165541",
     "exception": false,
     "start_time": "2021-12-26T02:29:45.138471",
     "status": "completed"
    },
    "tags": []
   },
   "source": [
    "The dataset has alot of missing values."
   ]
  },
  {
   "cell_type": "code",
   "execution_count": 6,
   "id": "2d060153",
   "metadata": {
    "execution": {
     "iopub.execute_input": "2021-12-26T02:29:45.223530Z",
     "iopub.status.busy": "2021-12-26T02:29:45.222900Z",
     "iopub.status.idle": "2021-12-26T02:29:45.229806Z",
     "shell.execute_reply": "2021-12-26T02:29:45.229292Z",
     "shell.execute_reply.started": "2021-12-26T01:49:22.069280Z"
    },
    "papermill": {
     "duration": 0.036974,
     "end_time": "2021-12-26T02:29:45.229946",
     "exception": false,
     "start_time": "2021-12-26T02:29:45.192972",
     "status": "completed"
    },
    "tags": []
   },
   "outputs": [
    {
     "data": {
      "application/javascript": [
       "parent.postMessage({\"jupyterEvent\": \"custom.exercise_interaction\", \"data\": {\"outcomeType\": 1, \"valueTowardsCompletion\": 0.16666666666666666, \"interactionType\": 1, \"questionType\": 4, \"questionId\": \"1_TakeFirstLook\", \"learnToolsVersion\": \"0.3.4\", \"failureMessage\": \"\", \"exceptionClass\": \"\", \"trace\": \"\"}}, \"*\")"
      ],
      "text/plain": [
       "<IPython.core.display.Javascript object>"
      ]
     },
     "metadata": {},
     "output_type": "display_data"
    },
    {
     "data": {
      "text/markdown": [
       "<span style=\"color:#33cc33\">Correct:</span> \n",
       "\n",
       "The first five rows of the data does show that several columns have missing values.  You can see this in the \"Street Number Suffix\", \"Proposed Construction Type\" and \"Site Permit\" columns, among others."
      ],
      "text/plain": [
       "Correct: \n",
       "\n",
       "The first five rows of the data does show that several columns have missing values.  You can see this in the \"Street Number Suffix\", \"Proposed Construction Type\" and \"Site Permit\" columns, among others."
      ]
     },
     "metadata": {},
     "output_type": "display_data"
    }
   ],
   "source": [
    "# Check your answer (Run this code cell to receive credit!)\n",
    "q1.check()"
   ]
  },
  {
   "cell_type": "code",
   "execution_count": 7,
   "id": "ca084ec5",
   "metadata": {
    "execution": {
     "iopub.execute_input": "2021-12-26T02:29:45.291223Z",
     "iopub.status.busy": "2021-12-26T02:29:45.290500Z",
     "iopub.status.idle": "2021-12-26T02:29:45.293298Z",
     "shell.execute_reply": "2021-12-26T02:29:45.292713Z"
    },
    "papermill": {
     "duration": 0.034872,
     "end_time": "2021-12-26T02:29:45.293437",
     "exception": false,
     "start_time": "2021-12-26T02:29:45.258565",
     "status": "completed"
    },
    "tags": []
   },
   "outputs": [],
   "source": [
    "# Line below will give you a hint\n",
    "#q1.hint()"
   ]
  },
  {
   "cell_type": "markdown",
   "id": "cbbc58f9",
   "metadata": {
    "papermill": {
     "duration": 0.027963,
     "end_time": "2021-12-26T02:29:45.349927",
     "exception": false,
     "start_time": "2021-12-26T02:29:45.321964",
     "status": "completed"
    },
    "tags": []
   },
   "source": [
    "# 2) How many missing data points do we have?\n",
    "\n",
    "What percentage of the values in the dataset are missing?  Your answer should be a number between 0 and 100.  (If 1/4 of the values in the dataset are missing, the answer is 25.)"
   ]
  },
  {
   "cell_type": "code",
   "execution_count": 8,
   "id": "8b3239a2",
   "metadata": {
    "execution": {
     "iopub.execute_input": "2021-12-26T02:29:45.409920Z",
     "iopub.status.busy": "2021-12-26T02:29:45.409276Z",
     "iopub.status.idle": "2021-12-26T02:29:45.414436Z",
     "shell.execute_reply": "2021-12-26T02:29:45.415056Z",
     "shell.execute_reply.started": "2021-12-26T01:53:28.988756Z"
    },
    "papermill": {
     "duration": 0.036727,
     "end_time": "2021-12-26T02:29:45.415224",
     "exception": false,
     "start_time": "2021-12-26T02:29:45.378497",
     "status": "completed"
    },
    "tags": []
   },
   "outputs": [
    {
     "data": {
      "text/plain": [
       "8552700"
      ]
     },
     "execution_count": 8,
     "metadata": {},
     "output_type": "execute_result"
    }
   ],
   "source": [
    "# Need to find out how many of the missing value we have\n",
    "\n",
    "total_cells = np.product(sf_permits.shape)\n",
    "total_cells"
   ]
  },
  {
   "cell_type": "code",
   "execution_count": 9,
   "id": "a67997a5",
   "metadata": {
    "execution": {
     "iopub.execute_input": "2021-12-26T02:29:45.476295Z",
     "iopub.status.busy": "2021-12-26T02:29:45.475622Z",
     "iopub.status.idle": "2021-12-26T02:29:45.480504Z",
     "shell.execute_reply": "2021-12-26T02:29:45.481061Z",
     "shell.execute_reply.started": "2021-12-26T01:54:33.588576Z"
    },
    "papermill": {
     "duration": 0.037164,
     "end_time": "2021-12-26T02:29:45.481230",
     "exception": false,
     "start_time": "2021-12-26T02:29:45.444066",
     "status": "completed"
    },
    "tags": []
   },
   "outputs": [
    {
     "data": {
      "text/plain": [
       "2245941"
      ]
     },
     "execution_count": 9,
     "metadata": {},
     "output_type": "execute_result"
    }
   ],
   "source": [
    "# Finding the sum of total missing values\n",
    "\n",
    "total_missing = missing_values_count.sum()\n",
    "total_missing"
   ]
  },
  {
   "cell_type": "code",
   "execution_count": 10,
   "id": "342fb8e5",
   "metadata": {
    "execution": {
     "iopub.execute_input": "2021-12-26T02:29:45.542205Z",
     "iopub.status.busy": "2021-12-26T02:29:45.541561Z",
     "iopub.status.idle": "2021-12-26T02:29:45.546232Z",
     "shell.execute_reply": "2021-12-26T02:29:45.546820Z",
     "shell.execute_reply.started": "2021-12-26T01:55:35.898138Z"
    },
    "papermill": {
     "duration": 0.036789,
     "end_time": "2021-12-26T02:29:45.546988",
     "exception": false,
     "start_time": "2021-12-26T02:29:45.510199",
     "status": "completed"
    },
    "tags": []
   },
   "outputs": [
    {
     "data": {
      "text/plain": [
       "26.26002315058403"
      ]
     },
     "execution_count": 10,
     "metadata": {},
     "output_type": "execute_result"
    }
   ],
   "source": [
    "# TODO: Your code here!\n",
    "percent_missing = (total_missing/total_cells)*100\n",
    "percent_missing\n",
    "\n",
    "# Check your answer\n",
    "#q2.check()"
   ]
  },
  {
   "cell_type": "markdown",
   "id": "e2cfca52",
   "metadata": {
    "papermill": {
     "duration": 0.029323,
     "end_time": "2021-12-26T02:29:45.605998",
     "exception": false,
     "start_time": "2021-12-26T02:29:45.576675",
     "status": "completed"
    },
    "tags": []
   },
   "source": [
    "We have about 26% of the data missing from our dataset."
   ]
  },
  {
   "cell_type": "code",
   "execution_count": 11,
   "id": "f3f77a99",
   "metadata": {
    "execution": {
     "iopub.execute_input": "2021-12-26T02:29:45.667484Z",
     "iopub.status.busy": "2021-12-26T02:29:45.666881Z",
     "iopub.status.idle": "2021-12-26T02:29:45.669636Z",
     "shell.execute_reply": "2021-12-26T02:29:45.670135Z"
    },
    "papermill": {
     "duration": 0.035058,
     "end_time": "2021-12-26T02:29:45.670299",
     "exception": false,
     "start_time": "2021-12-26T02:29:45.635241",
     "status": "completed"
    },
    "tags": []
   },
   "outputs": [],
   "source": [
    "# Lines below will give you a hint or solution code\n",
    "#q2.hint()\n",
    "#q2.solution()"
   ]
  },
  {
   "cell_type": "markdown",
   "id": "2feec68a",
   "metadata": {
    "papermill": {
     "duration": 0.029292,
     "end_time": "2021-12-26T02:29:45.729305",
     "exception": false,
     "start_time": "2021-12-26T02:29:45.700013",
     "status": "completed"
    },
    "tags": []
   },
   "source": [
    "# 3) Figure out why the data is missing\n",
    "\n",
    "Look at the columns **\"Street Number Suffix\"** and **\"Zipcode\"** from the [San Francisco Building Permits dataset](https://www.kaggle.com/aparnashastry/building-permit-applications-data). Both of these contain missing values. \n",
    "- Which, if either, are missing because they don't exist? \n",
    "- Which, if either, are missing because they weren't recorded?  \n",
    "\n",
    "Once you have an answer, run the code cell below."
   ]
  },
  {
   "cell_type": "markdown",
   "id": "eab0a82d",
   "metadata": {
    "papermill": {
     "duration": 0.029384,
     "end_time": "2021-12-26T02:29:45.788412",
     "exception": false,
     "start_time": "2021-12-26T02:29:45.759028",
     "status": "completed"
    },
    "tags": []
   },
   "source": [
    "Answer 1: The \"street Number suffix\" is missing beacause they might not exist.\n",
    "\n",
    "Answer 2: The \"Zipcode\" is missing because they weren't recorded."
   ]
  },
  {
   "cell_type": "code",
   "execution_count": 12,
   "id": "436e6312",
   "metadata": {
    "execution": {
     "iopub.execute_input": "2021-12-26T02:29:45.850880Z",
     "iopub.status.busy": "2021-12-26T02:29:45.850196Z",
     "iopub.status.idle": "2021-12-26T02:29:45.856048Z",
     "shell.execute_reply": "2021-12-26T02:29:45.856585Z",
     "shell.execute_reply.started": "2021-12-26T02:01:24.023933Z"
    },
    "papermill": {
     "duration": 0.038521,
     "end_time": "2021-12-26T02:29:45.856766",
     "exception": false,
     "start_time": "2021-12-26T02:29:45.818245",
     "status": "completed"
    },
    "tags": []
   },
   "outputs": [
    {
     "data": {
      "application/javascript": [
       "parent.postMessage({\"jupyterEvent\": \"custom.exercise_interaction\", \"data\": {\"outcomeType\": 1, \"valueTowardsCompletion\": 0.16666666666666666, \"interactionType\": 1, \"questionType\": 4, \"questionId\": \"3_WhyDataMissing\", \"learnToolsVersion\": \"0.3.4\", \"failureMessage\": \"\", \"exceptionClass\": \"\", \"trace\": \"\"}}, \"*\")"
      ],
      "text/plain": [
       "<IPython.core.display.Javascript object>"
      ]
     },
     "metadata": {},
     "output_type": "display_data"
    },
    {
     "data": {
      "text/markdown": [
       "<span style=\"color:#33cc33\">Correct:</span> \n",
       "\n",
       "If a value in the \"Street Number Suffix\" column is missing, it is likely because it does not exist. If a value in the \"Zipcode\" column is missing, it was not recorded."
      ],
      "text/plain": [
       "Correct: \n",
       "\n",
       "If a value in the \"Street Number Suffix\" column is missing, it is likely because it does not exist. If a value in the \"Zipcode\" column is missing, it was not recorded."
      ]
     },
     "metadata": {},
     "output_type": "display_data"
    }
   ],
   "source": [
    "# Check your answer (Run this code cell to receive credit!)\n",
    "q3.check()"
   ]
  },
  {
   "cell_type": "code",
   "execution_count": 13,
   "id": "a9720fee",
   "metadata": {
    "execution": {
     "iopub.execute_input": "2021-12-26T02:29:45.920367Z",
     "iopub.status.busy": "2021-12-26T02:29:45.919718Z",
     "iopub.status.idle": "2021-12-26T02:29:45.922402Z",
     "shell.execute_reply": "2021-12-26T02:29:45.922965Z"
    },
    "papermill": {
     "duration": 0.035936,
     "end_time": "2021-12-26T02:29:45.923138",
     "exception": false,
     "start_time": "2021-12-26T02:29:45.887202",
     "status": "completed"
    },
    "tags": []
   },
   "outputs": [],
   "source": [
    "# Line below will give you a hint\n",
    "#q3.hint()"
   ]
  },
  {
   "cell_type": "markdown",
   "id": "50909c24",
   "metadata": {
    "papermill": {
     "duration": 0.030264,
     "end_time": "2021-12-26T02:29:45.983934",
     "exception": false,
     "start_time": "2021-12-26T02:29:45.953670",
     "status": "completed"
    },
    "tags": []
   },
   "source": [
    "# 4) Drop missing values: rows\n",
    "\n",
    "If you removed all of the rows of `sf_permits` with missing values, how many rows are left?\n",
    "\n",
    "**Note**: Do not change the value of `sf_permits` when checking this.  "
   ]
  },
  {
   "cell_type": "code",
   "execution_count": 14,
   "id": "a579db9a",
   "metadata": {
    "execution": {
     "iopub.execute_input": "2021-12-26T02:29:46.047872Z",
     "iopub.status.busy": "2021-12-26T02:29:46.047251Z",
     "iopub.status.idle": "2021-12-26T02:29:46.569359Z",
     "shell.execute_reply": "2021-12-26T02:29:46.569833Z",
     "shell.execute_reply.started": "2021-12-26T02:05:26.663760Z"
    },
    "papermill": {
     "duration": 0.555793,
     "end_time": "2021-12-26T02:29:46.570009",
     "exception": false,
     "start_time": "2021-12-26T02:29:46.014216",
     "status": "completed"
    },
    "tags": []
   },
   "outputs": [
    {
     "data": {
      "text/html": [
       "<div>\n",
       "<style scoped>\n",
       "    .dataframe tbody tr th:only-of-type {\n",
       "        vertical-align: middle;\n",
       "    }\n",
       "\n",
       "    .dataframe tbody tr th {\n",
       "        vertical-align: top;\n",
       "    }\n",
       "\n",
       "    .dataframe thead th {\n",
       "        text-align: right;\n",
       "    }\n",
       "</style>\n",
       "<table border=\"1\" class=\"dataframe\">\n",
       "  <thead>\n",
       "    <tr style=\"text-align: right;\">\n",
       "      <th></th>\n",
       "      <th>Permit Number</th>\n",
       "      <th>Permit Type</th>\n",
       "      <th>Permit Type Definition</th>\n",
       "      <th>Permit Creation Date</th>\n",
       "      <th>Block</th>\n",
       "      <th>Lot</th>\n",
       "      <th>Street Number</th>\n",
       "      <th>Street Number Suffix</th>\n",
       "      <th>Street Name</th>\n",
       "      <th>Street Suffix</th>\n",
       "      <th>...</th>\n",
       "      <th>Existing Construction Type</th>\n",
       "      <th>Existing Construction Type Description</th>\n",
       "      <th>Proposed Construction Type</th>\n",
       "      <th>Proposed Construction Type Description</th>\n",
       "      <th>Site Permit</th>\n",
       "      <th>Supervisor District</th>\n",
       "      <th>Neighborhoods - Analysis Boundaries</th>\n",
       "      <th>Zipcode</th>\n",
       "      <th>Location</th>\n",
       "      <th>Record ID</th>\n",
       "    </tr>\n",
       "  </thead>\n",
       "  <tbody>\n",
       "  </tbody>\n",
       "</table>\n",
       "<p>0 rows × 43 columns</p>\n",
       "</div>"
      ],
      "text/plain": [
       "Empty DataFrame\n",
       "Columns: [Permit Number, Permit Type, Permit Type Definition, Permit Creation Date, Block, Lot, Street Number, Street Number Suffix, Street Name, Street Suffix, Unit, Unit Suffix, Description, Current Status, Current Status Date, Filed Date, Issued Date, Completed Date, First Construction Document Date, Structural Notification, Number of Existing Stories, Number of Proposed Stories, Voluntary Soft-Story Retrofit, Fire Only Permit, Permit Expiration Date, Estimated Cost, Revised Cost, Existing Use, Existing Units, Proposed Use, Proposed Units, Plansets, TIDF Compliance, Existing Construction Type, Existing Construction Type Description, Proposed Construction Type, Proposed Construction Type Description, Site Permit, Supervisor District, Neighborhoods - Analysis Boundaries, Zipcode, Location, Record ID]\n",
       "Index: []\n",
       "\n",
       "[0 rows x 43 columns]"
      ]
     },
     "execution_count": 14,
     "metadata": {},
     "output_type": "execute_result"
    }
   ],
   "source": [
    "# TODO: Your code here!\n",
    "sf_permits.dropna()"
   ]
  },
  {
   "cell_type": "markdown",
   "id": "6ec33dc2",
   "metadata": {
    "papermill": {
     "duration": 0.030846,
     "end_time": "2021-12-26T02:29:46.632372",
     "exception": false,
     "start_time": "2021-12-26T02:29:46.601526",
     "status": "completed"
    },
    "tags": []
   },
   "source": [
    "Okay, so it dropped all the values resulting an empty dataset which means every row in our dataset has at least 1 null value."
   ]
  },
  {
   "cell_type": "markdown",
   "id": "5da2a5eb",
   "metadata": {
    "papermill": {
     "duration": 0.030627,
     "end_time": "2021-12-26T02:29:46.694156",
     "exception": false,
     "start_time": "2021-12-26T02:29:46.663529",
     "status": "completed"
    },
    "tags": []
   },
   "source": [
    "Once you have an answer, run the code cell below."
   ]
  },
  {
   "cell_type": "code",
   "execution_count": 15,
   "id": "5149e7d2",
   "metadata": {
    "execution": {
     "iopub.execute_input": "2021-12-26T02:29:46.759755Z",
     "iopub.status.busy": "2021-12-26T02:29:46.759118Z",
     "iopub.status.idle": "2021-12-26T02:29:46.765610Z",
     "shell.execute_reply": "2021-12-26T02:29:46.766185Z",
     "shell.execute_reply.started": "2021-12-26T02:06:44.744292Z"
    },
    "papermill": {
     "duration": 0.040786,
     "end_time": "2021-12-26T02:29:46.766352",
     "exception": false,
     "start_time": "2021-12-26T02:29:46.725566",
     "status": "completed"
    },
    "tags": []
   },
   "outputs": [
    {
     "data": {
      "application/javascript": [
       "parent.postMessage({\"jupyterEvent\": \"custom.exercise_interaction\", \"data\": {\"outcomeType\": 1, \"valueTowardsCompletion\": 0.16666666666666666, \"interactionType\": 1, \"questionType\": 4, \"questionId\": \"4_DropMissingRows\", \"learnToolsVersion\": \"0.3.4\", \"failureMessage\": \"\", \"exceptionClass\": \"\", \"trace\": \"\"}}, \"*\")"
      ],
      "text/plain": [
       "<IPython.core.display.Javascript object>"
      ]
     },
     "metadata": {},
     "output_type": "display_data"
    },
    {
     "data": {
      "text/markdown": [
       "<span style=\"color:#33cc33\">Correct:</span> \n",
       "\n",
       "There are no rows remaining in the dataset!"
      ],
      "text/plain": [
       "Correct: \n",
       "\n",
       "There are no rows remaining in the dataset!"
      ]
     },
     "metadata": {},
     "output_type": "display_data"
    }
   ],
   "source": [
    "# Check your answer (Run this code cell to receive credit!)\n",
    "q4.check()"
   ]
  },
  {
   "cell_type": "code",
   "execution_count": 16,
   "id": "77af923f",
   "metadata": {
    "execution": {
     "iopub.execute_input": "2021-12-26T02:29:46.833330Z",
     "iopub.status.busy": "2021-12-26T02:29:46.832678Z",
     "iopub.status.idle": "2021-12-26T02:29:46.835260Z",
     "shell.execute_reply": "2021-12-26T02:29:46.835864Z"
    },
    "papermill": {
     "duration": 0.037565,
     "end_time": "2021-12-26T02:29:46.836023",
     "exception": false,
     "start_time": "2021-12-26T02:29:46.798458",
     "status": "completed"
    },
    "tags": []
   },
   "outputs": [],
   "source": [
    "# Line below will give you a hint\n",
    "#q4.hint()"
   ]
  },
  {
   "cell_type": "markdown",
   "id": "e8f925b4",
   "metadata": {
    "papermill": {
     "duration": 0.032693,
     "end_time": "2021-12-26T02:29:46.900571",
     "exception": false,
     "start_time": "2021-12-26T02:29:46.867878",
     "status": "completed"
    },
    "tags": []
   },
   "source": [
    "# 5) Drop missing values: columns\n",
    "\n",
    "Now try removing all the columns with empty values.  \n",
    "- Create a new DataFrame called `sf_permits_with_na_dropped` that has all of the columns with empty values removed.  \n",
    "- How many columns were removed from the original `sf_permits` DataFrame? Use this number to set the value of the `dropped_columns` variable below."
   ]
  },
  {
   "cell_type": "code",
   "execution_count": 17,
   "id": "de21f809",
   "metadata": {
    "execution": {
     "iopub.execute_input": "2021-12-26T02:29:46.968648Z",
     "iopub.status.busy": "2021-12-26T02:29:46.968006Z",
     "iopub.status.idle": "2021-12-26T02:29:47.497008Z",
     "shell.execute_reply": "2021-12-26T02:29:47.496486Z",
     "shell.execute_reply.started": "2021-12-26T02:21:10.185577Z"
    },
    "papermill": {
     "duration": 0.564393,
     "end_time": "2021-12-26T02:29:47.497148",
     "exception": false,
     "start_time": "2021-12-26T02:29:46.932755",
     "status": "completed"
    },
    "tags": []
   },
   "outputs": [
    {
     "data": {
      "application/javascript": [
       "parent.postMessage({\"jupyterEvent\": \"custom.exercise_interaction\", \"data\": {\"outcomeType\": 1, \"valueTowardsCompletion\": 0.16666666666666666, \"interactionType\": 1, \"questionType\": 1, \"questionId\": \"5_DropMissingCols\", \"learnToolsVersion\": \"0.3.4\", \"failureMessage\": \"\", \"exceptionClass\": \"\", \"trace\": \"\"}}, \"*\")"
      ],
      "text/plain": [
       "<IPython.core.display.Javascript object>"
      ]
     },
     "metadata": {},
     "output_type": "display_data"
    },
    {
     "data": {
      "text/markdown": [
       "<span style=\"color:#33cc33\">Correct</span>"
      ],
      "text/plain": [
       "Correct"
      ]
     },
     "metadata": {},
     "output_type": "display_data"
    }
   ],
   "source": [
    "# TODO: Your code here\n",
    "sf_permits_with_na_dropped = sf_permits.dropna(axis=1)\n",
    "\n",
    "\n",
    "dropped_columns = sf_permits.shape[1] -sf_permits_with_na_dropped.shape[1] \n",
    "dropped_columns\n",
    "\n",
    "# Check your answer\n",
    "q5.check()"
   ]
  },
  {
   "cell_type": "code",
   "execution_count": 18,
   "id": "4b8ded58",
   "metadata": {
    "execution": {
     "iopub.execute_input": "2021-12-26T02:29:47.573964Z",
     "iopub.status.busy": "2021-12-26T02:29:47.573224Z",
     "iopub.status.idle": "2021-12-26T02:29:47.575666Z",
     "shell.execute_reply": "2021-12-26T02:29:47.576603Z"
    },
    "papermill": {
     "duration": 0.04668,
     "end_time": "2021-12-26T02:29:47.576873",
     "exception": false,
     "start_time": "2021-12-26T02:29:47.530193",
     "status": "completed"
    },
    "tags": []
   },
   "outputs": [],
   "source": [
    "# Lines below will give you a hint or solution code\n",
    "#q5.hint()\n",
    "#q5.solution()"
   ]
  },
  {
   "cell_type": "markdown",
   "id": "097f2758",
   "metadata": {
    "papermill": {
     "duration": 0.040136,
     "end_time": "2021-12-26T02:29:47.660180",
     "exception": false,
     "start_time": "2021-12-26T02:29:47.620044",
     "status": "completed"
    },
    "tags": []
   },
   "source": [
    "# 6) Fill in missing values automatically\n",
    "\n",
    "Try replacing all the NaN's in the `sf_permits` data with the one that comes directly after it and then replacing any remaining NaN's with 0.  Set the result to a new DataFrame `sf_permits_with_na_imputed`."
   ]
  },
  {
   "cell_type": "code",
   "execution_count": 19,
   "id": "a21425a2",
   "metadata": {
    "execution": {
     "iopub.execute_input": "2021-12-26T02:29:47.733784Z",
     "iopub.status.busy": "2021-12-26T02:29:47.733161Z",
     "iopub.status.idle": "2021-12-26T02:29:49.224298Z",
     "shell.execute_reply": "2021-12-26T02:29:49.224757Z",
     "shell.execute_reply.started": "2021-12-26T02:22:39.405318Z"
    },
    "papermill": {
     "duration": 1.528264,
     "end_time": "2021-12-26T02:29:49.224926",
     "exception": false,
     "start_time": "2021-12-26T02:29:47.696662",
     "status": "completed"
    },
    "tags": []
   },
   "outputs": [
    {
     "data": {
      "application/javascript": [
       "parent.postMessage({\"jupyterEvent\": \"custom.exercise_interaction\", \"data\": {\"outcomeType\": 1, \"valueTowardsCompletion\": 0.16666666666666666, \"interactionType\": 1, \"questionType\": 1, \"questionId\": \"6_ImputeAutomatically\", \"learnToolsVersion\": \"0.3.4\", \"failureMessage\": \"\", \"exceptionClass\": \"\", \"trace\": \"\"}}, \"*\")"
      ],
      "text/plain": [
       "<IPython.core.display.Javascript object>"
      ]
     },
     "metadata": {},
     "output_type": "display_data"
    },
    {
     "data": {
      "text/markdown": [
       "<span style=\"color:#33cc33\">Correct</span>"
      ],
      "text/plain": [
       "Correct"
      ]
     },
     "metadata": {},
     "output_type": "display_data"
    }
   ],
   "source": [
    "# TODO: Your code here\n",
    "sf_permits_with_na_imputed = sf_permits.fillna(method = 'bfill',axis = 0).fillna(0)\n",
    "\n",
    "# Check your answer\n",
    "q6.check()"
   ]
  },
  {
   "cell_type": "code",
   "execution_count": 20,
   "id": "ebfe2289",
   "metadata": {
    "execution": {
     "iopub.execute_input": "2021-12-26T02:29:49.297994Z",
     "iopub.status.busy": "2021-12-26T02:29:49.297340Z",
     "iopub.status.idle": "2021-12-26T02:29:49.299116Z",
     "shell.execute_reply": "2021-12-26T02:29:49.299683Z"
    },
    "papermill": {
     "duration": 0.040996,
     "end_time": "2021-12-26T02:29:49.299851",
     "exception": false,
     "start_time": "2021-12-26T02:29:49.258855",
     "status": "completed"
    },
    "tags": []
   },
   "outputs": [],
   "source": [
    "# Lines below will give you a hint or solution code\n",
    "#q6.hint()\n",
    "#q6.solution()"
   ]
  },
  {
   "cell_type": "markdown",
   "id": "17877cd7",
   "metadata": {
    "papermill": {
     "duration": 0.033701,
     "end_time": "2021-12-26T02:29:49.367505",
     "exception": false,
     "start_time": "2021-12-26T02:29:49.333804",
     "status": "completed"
    },
    "tags": []
   },
   "source": [
    "# More practice\n",
    "\n",
    "If you're looking for more practice handling missing values:\n",
    "\n",
    "* Check out [this noteboook](https://www.kaggle.com/alexisbcook/missing-values) on handling missing values using scikit-learn's imputer. \n",
    "* Look back at the \"Zipcode\" column in the `sf_permits` dataset, which has some missing values. How would you go about figuring out what the actual zipcode of each address should be? (You might try using another dataset. You can search for datasets about San Fransisco on the [Datasets listing](https://www.kaggle.com/datasets).) \n",
    "\n",
    "# Keep going\n",
    "\n",
    "In the next lesson, learn how to [**apply scaling and normalization**](https://www.kaggle.com/alexisbcook/scaling-and-normalization) to transform your data."
   ]
  },
  {
   "cell_type": "markdown",
   "id": "31c81e2e",
   "metadata": {
    "papermill": {
     "duration": 0.034577,
     "end_time": "2021-12-26T02:29:49.436658",
     "exception": false,
     "start_time": "2021-12-26T02:29:49.402081",
     "status": "completed"
    },
    "tags": []
   },
   "source": [
    "---\n",
    "\n",
    "\n",
    "\n",
    "\n",
    "*Have questions or comments? Visit the [course discussion forum](https://www.kaggle.com/learn/data-cleaning/discussion) to chat with other learners.*"
   ]
  }
 ],
 "metadata": {
  "kernelspec": {
   "display_name": "Python 3",
   "language": "python",
   "name": "python3"
  },
  "language_info": {
   "codemirror_mode": {
    "name": "ipython",
    "version": 3
   },
   "file_extension": ".py",
   "mimetype": "text/x-python",
   "name": "python",
   "nbconvert_exporter": "python",
   "pygments_lexer": "ipython3",
   "version": "3.7.12"
  },
  "papermill": {
   "default_parameters": {},
   "duration": 22.815721,
   "end_time": "2021-12-26T02:29:50.181784",
   "environment_variables": {},
   "exception": null,
   "input_path": "__notebook__.ipynb",
   "output_path": "__notebook__.ipynb",
   "parameters": {},
   "start_time": "2021-12-26T02:29:27.366063",
   "version": "2.3.3"
  }
 },
 "nbformat": 4,
 "nbformat_minor": 5
}
