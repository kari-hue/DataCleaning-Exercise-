{
 "cells": [
  {
   "cell_type": "markdown",
   "id": "6150136a",
   "metadata": {
    "papermill": {
     "duration": 0.030021,
     "end_time": "2021-12-30T16:09:55.526474",
     "exception": false,
     "start_time": "2021-12-30T16:09:55.496453",
     "status": "completed"
    },
    "tags": []
   },
   "source": [
    "**This notebook is an exercise in the [Data Cleaning](https://www.kaggle.com/learn/data-cleaning) course.  You can reference the tutorial at [this link](https://www.kaggle.com/alexisbcook/parsing-dates).**\n",
    "\n",
    "---\n"
   ]
  },
  {
   "cell_type": "markdown",
   "id": "b290c7d7",
   "metadata": {
    "papermill": {
     "duration": 0.022751,
     "end_time": "2021-12-30T16:09:55.573344",
     "exception": false,
     "start_time": "2021-12-30T16:09:55.550593",
     "status": "completed"
    },
    "tags": []
   },
   "source": [
    "In this exercise, you'll apply what you learned in the **Parsing dates** tutorial.\n",
    "\n",
    "# Setup\n",
    "\n",
    "The questions below will give you feedback on your work. Run the following cell to set up the feedback system."
   ]
  },
  {
   "cell_type": "code",
   "execution_count": 1,
   "id": "7002b5db",
   "metadata": {
    "execution": {
     "iopub.execute_input": "2021-12-30T16:09:55.628255Z",
     "iopub.status.busy": "2021-12-30T16:09:55.625705Z",
     "iopub.status.idle": "2021-12-30T16:09:56.775968Z",
     "shell.execute_reply": "2021-12-30T16:09:56.776474Z",
     "shell.execute_reply.started": "2021-12-30T15:19:46.956263Z"
    },
    "papermill": {
     "duration": 1.181102,
     "end_time": "2021-12-30T16:09:56.776784",
     "exception": false,
     "start_time": "2021-12-30T16:09:55.595682",
     "status": "completed"
    },
    "tags": []
   },
   "outputs": [
    {
     "name": "stdout",
     "output_type": "stream",
     "text": [
      "Setup Complete\n"
     ]
    }
   ],
   "source": [
    "from learntools.core import binder\n",
    "binder.bind(globals())\n",
    "from learntools.data_cleaning.ex3 import *\n",
    "print(\"Setup Complete\")"
   ]
  },
  {
   "cell_type": "markdown",
   "id": "fd4c7119",
   "metadata": {
    "papermill": {
     "duration": 0.022905,
     "end_time": "2021-12-30T16:09:56.823313",
     "exception": false,
     "start_time": "2021-12-30T16:09:56.800408",
     "status": "completed"
    },
    "tags": []
   },
   "source": [
    "# Get our environment set up\n",
    "\n",
    "The first thing we'll need to do is load in the libraries and dataset we'll be using. We'll be working with a dataset containing information on earthquakes that occured between 1965 and 2016."
   ]
  },
  {
   "cell_type": "code",
   "execution_count": 2,
   "id": "da03327d",
   "metadata": {
    "execution": {
     "iopub.execute_input": "2021-12-30T16:09:56.874902Z",
     "iopub.status.busy": "2021-12-30T16:09:56.874230Z",
     "iopub.status.idle": "2021-12-30T16:09:56.951995Z",
     "shell.execute_reply": "2021-12-30T16:09:56.951446Z",
     "shell.execute_reply.started": "2021-12-30T15:19:46.965962Z"
    },
    "papermill": {
     "duration": 0.105787,
     "end_time": "2021-12-30T16:09:56.952138",
     "exception": false,
     "start_time": "2021-12-30T16:09:56.846351",
     "status": "completed"
    },
    "tags": []
   },
   "outputs": [],
   "source": [
    "# modules we'll use\n",
    "import pandas as pd\n",
    "import numpy as np\n",
    "import seaborn as sns\n",
    "import datetime\n",
    "\n",
    "# read in our data\n",
    "earthquakes = pd.read_csv(\"../input/earthquake-database/database.csv\")\n",
    "\n",
    "# set seed for reproducibility\n",
    "np.random.seed(0)"
   ]
  },
  {
   "cell_type": "markdown",
   "id": "429b7577",
   "metadata": {
    "papermill": {
     "duration": 0.023151,
     "end_time": "2021-12-30T16:09:56.998438",
     "exception": false,
     "start_time": "2021-12-30T16:09:56.975287",
     "status": "completed"
    },
    "tags": []
   },
   "source": [
    "# 1) Check the data type of our date column\n",
    "\n",
    "You'll be working with the \"Date\" column from the `earthquakes` dataframe.  Investigate this column now: does it look like it contains dates?  What is the dtype of the column?"
   ]
  },
  {
   "cell_type": "code",
   "execution_count": 3,
   "id": "591fa32d",
   "metadata": {
    "execution": {
     "iopub.execute_input": "2021-12-30T16:09:57.052895Z",
     "iopub.status.busy": "2021-12-30T16:09:57.052143Z",
     "iopub.status.idle": "2021-12-30T16:09:57.055479Z",
     "shell.execute_reply": "2021-12-30T16:09:57.055963Z",
     "shell.execute_reply.started": "2021-12-30T15:19:47.062402Z"
    },
    "papermill": {
     "duration": 0.034313,
     "end_time": "2021-12-30T16:09:57.056119",
     "exception": false,
     "start_time": "2021-12-30T16:09:57.021806",
     "status": "completed"
    },
    "tags": []
   },
   "outputs": [
    {
     "data": {
      "text/plain": [
       "dtype('O')"
      ]
     },
     "execution_count": 3,
     "metadata": {},
     "output_type": "execute_result"
    }
   ],
   "source": [
    "# TODO: Your code here!\n",
    "earthquakes['Date'].dtype"
   ]
  },
  {
   "cell_type": "markdown",
   "id": "21a0521b",
   "metadata": {
    "papermill": {
     "duration": 0.023069,
     "end_time": "2021-12-30T16:09:57.102928",
     "exception": false,
     "start_time": "2021-12-30T16:09:57.079859",
     "status": "completed"
    },
    "tags": []
   },
   "source": [
    "We can clearly see that the \"Date\" column has the datatype 'O'."
   ]
  },
  {
   "cell_type": "markdown",
   "id": "1dbf6bd1",
   "metadata": {
    "papermill": {
     "duration": 0.023079,
     "end_time": "2021-12-30T16:09:57.149269",
     "exception": false,
     "start_time": "2021-12-30T16:09:57.126190",
     "status": "completed"
    },
    "tags": []
   },
   "source": [
    "Once you have answered the question above, run the code cell below to get credit for your work."
   ]
  },
  {
   "cell_type": "code",
   "execution_count": 4,
   "id": "45d54f00",
   "metadata": {
    "execution": {
     "iopub.execute_input": "2021-12-30T16:09:57.199389Z",
     "iopub.status.busy": "2021-12-30T16:09:57.198423Z",
     "iopub.status.idle": "2021-12-30T16:09:57.205891Z",
     "shell.execute_reply": "2021-12-30T16:09:57.206425Z",
     "shell.execute_reply.started": "2021-12-30T15:19:47.07108Z"
    },
    "papermill": {
     "duration": 0.034283,
     "end_time": "2021-12-30T16:09:57.206588",
     "exception": false,
     "start_time": "2021-12-30T16:09:57.172305",
     "status": "completed"
    },
    "tags": []
   },
   "outputs": [
    {
     "data": {
      "application/javascript": [
       "parent.postMessage({\"jupyterEvent\": \"custom.exercise_interaction\", \"data\": {\"outcomeType\": 1, \"valueTowardsCompletion\": 0.25, \"interactionType\": 1, \"questionType\": 4, \"questionId\": \"1_CheckDtype\", \"learnToolsVersion\": \"0.3.4\", \"failureMessage\": \"\", \"exceptionClass\": \"\", \"trace\": \"\"}}, \"*\")"
      ],
      "text/plain": [
       "<IPython.core.display.Javascript object>"
      ]
     },
     "metadata": {},
     "output_type": "display_data"
    },
    {
     "data": {
      "text/markdown": [
       "<span style=\"color:#33cc33\">Correct:</span> \n",
       "\n",
       "The \"Date\" column in the `earthquakes` DataFrame does have dates.  The dtype is \"object\"."
      ],
      "text/plain": [
       "Correct: \n",
       "\n",
       "The \"Date\" column in the `earthquakes` DataFrame does have dates.  The dtype is \"object\"."
      ]
     },
     "metadata": {},
     "output_type": "display_data"
    }
   ],
   "source": [
    "# Check your answer (Run this code cell to receive credit!)\n",
    "q1.check()"
   ]
  },
  {
   "cell_type": "code",
   "execution_count": 5,
   "id": "089b1c32",
   "metadata": {
    "execution": {
     "iopub.execute_input": "2021-12-30T16:09:57.258256Z",
     "iopub.status.busy": "2021-12-30T16:09:57.257634Z",
     "iopub.status.idle": "2021-12-30T16:09:57.260261Z",
     "shell.execute_reply": "2021-12-30T16:09:57.260819Z",
     "shell.execute_reply.started": "2021-12-30T15:19:47.088574Z"
    },
    "papermill": {
     "duration": 0.030039,
     "end_time": "2021-12-30T16:09:57.260964",
     "exception": false,
     "start_time": "2021-12-30T16:09:57.230925",
     "status": "completed"
    },
    "tags": []
   },
   "outputs": [],
   "source": [
    "# Line below will give you a hint\n",
    "#q1.hint()"
   ]
  },
  {
   "cell_type": "markdown",
   "id": "1d5dbec9",
   "metadata": {
    "papermill": {
     "duration": 0.023914,
     "end_time": "2021-12-30T16:09:57.309382",
     "exception": false,
     "start_time": "2021-12-30T16:09:57.285468",
     "status": "completed"
    },
    "tags": []
   },
   "source": [
    "# 2) Convert our date columns to datetime\n",
    "\n",
    "Most of the entries in the \"Date\" column follow the same format: \"month/day/four-digit year\".  However, the entry at index 3378 follows a completely different pattern.  Run the code cell below to see this."
   ]
  },
  {
   "cell_type": "code",
   "execution_count": 6,
   "id": "b54b1e00",
   "metadata": {
    "execution": {
     "iopub.execute_input": "2021-12-30T16:09:57.361595Z",
     "iopub.status.busy": "2021-12-30T16:09:57.361025Z",
     "iopub.status.idle": "2021-12-30T16:09:57.366488Z",
     "shell.execute_reply": "2021-12-30T16:09:57.367046Z",
     "shell.execute_reply.started": "2021-12-30T15:19:47.093918Z"
    },
    "papermill": {
     "duration": 0.033193,
     "end_time": "2021-12-30T16:09:57.367194",
     "exception": false,
     "start_time": "2021-12-30T16:09:57.334001",
     "status": "completed"
    },
    "tags": []
   },
   "outputs": [
    {
     "data": {
      "text/plain": [
       "0    01/02/1965\n",
       "1    01/04/1965\n",
       "2    01/05/1965\n",
       "3    01/08/1965\n",
       "4    01/09/1965\n",
       "5    01/10/1965\n",
       "6    01/12/1965\n",
       "7    01/15/1965\n",
       "8    01/16/1965\n",
       "9    01/17/1965\n",
       "Name: Date, dtype: object"
      ]
     },
     "execution_count": 6,
     "metadata": {},
     "output_type": "execute_result"
    }
   ],
   "source": [
    "# Observing the first ten date column to see the formatting of date\n",
    "\n",
    "earthquakes['Date'].head(10)"
   ]
  },
  {
   "cell_type": "code",
   "execution_count": 7,
   "id": "36fdc30f",
   "metadata": {
    "execution": {
     "iopub.execute_input": "2021-12-30T16:09:57.420210Z",
     "iopub.status.busy": "2021-12-30T16:09:57.419627Z",
     "iopub.status.idle": "2021-12-30T16:09:57.448521Z",
     "shell.execute_reply": "2021-12-30T16:09:57.449015Z",
     "shell.execute_reply.started": "2021-12-30T15:19:47.112149Z"
    },
    "papermill": {
     "duration": 0.056584,
     "end_time": "2021-12-30T16:09:57.449176",
     "exception": false,
     "start_time": "2021-12-30T16:09:57.392592",
     "status": "completed"
    },
    "tags": []
   },
   "outputs": [
    {
     "data": {
      "text/html": [
       "<div>\n",
       "<style scoped>\n",
       "    .dataframe tbody tr th:only-of-type {\n",
       "        vertical-align: middle;\n",
       "    }\n",
       "\n",
       "    .dataframe tbody tr th {\n",
       "        vertical-align: top;\n",
       "    }\n",
       "\n",
       "    .dataframe thead th {\n",
       "        text-align: right;\n",
       "    }\n",
       "</style>\n",
       "<table border=\"1\" class=\"dataframe\">\n",
       "  <thead>\n",
       "    <tr style=\"text-align: right;\">\n",
       "      <th></th>\n",
       "      <th>Date</th>\n",
       "      <th>Time</th>\n",
       "      <th>Latitude</th>\n",
       "      <th>Longitude</th>\n",
       "      <th>Type</th>\n",
       "      <th>Depth</th>\n",
       "      <th>Depth Error</th>\n",
       "      <th>Depth Seismic Stations</th>\n",
       "      <th>Magnitude</th>\n",
       "      <th>Magnitude Type</th>\n",
       "      <th>...</th>\n",
       "      <th>Magnitude Seismic Stations</th>\n",
       "      <th>Azimuthal Gap</th>\n",
       "      <th>Horizontal Distance</th>\n",
       "      <th>Horizontal Error</th>\n",
       "      <th>Root Mean Square</th>\n",
       "      <th>ID</th>\n",
       "      <th>Source</th>\n",
       "      <th>Location Source</th>\n",
       "      <th>Magnitude Source</th>\n",
       "      <th>Status</th>\n",
       "    </tr>\n",
       "  </thead>\n",
       "  <tbody>\n",
       "    <tr>\n",
       "      <th>3378</th>\n",
       "      <td>1975-02-23T02:58:41.000Z</td>\n",
       "      <td>1975-02-23T02:58:41.000Z</td>\n",
       "      <td>8.017</td>\n",
       "      <td>124.075</td>\n",
       "      <td>Earthquake</td>\n",
       "      <td>623.0</td>\n",
       "      <td>NaN</td>\n",
       "      <td>NaN</td>\n",
       "      <td>5.6</td>\n",
       "      <td>MB</td>\n",
       "      <td>...</td>\n",
       "      <td>NaN</td>\n",
       "      <td>NaN</td>\n",
       "      <td>NaN</td>\n",
       "      <td>NaN</td>\n",
       "      <td>NaN</td>\n",
       "      <td>USP0000A09</td>\n",
       "      <td>US</td>\n",
       "      <td>US</td>\n",
       "      <td>US</td>\n",
       "      <td>Reviewed</td>\n",
       "    </tr>\n",
       "    <tr>\n",
       "      <th>3379</th>\n",
       "      <td>02/23/1975</td>\n",
       "      <td>03:53:36</td>\n",
       "      <td>-21.727</td>\n",
       "      <td>-71.356</td>\n",
       "      <td>Earthquake</td>\n",
       "      <td>33.0</td>\n",
       "      <td>NaN</td>\n",
       "      <td>NaN</td>\n",
       "      <td>5.6</td>\n",
       "      <td>MB</td>\n",
       "      <td>...</td>\n",
       "      <td>NaN</td>\n",
       "      <td>NaN</td>\n",
       "      <td>NaN</td>\n",
       "      <td>NaN</td>\n",
       "      <td>NaN</td>\n",
       "      <td>USP0000A0A</td>\n",
       "      <td>US</td>\n",
       "      <td>US</td>\n",
       "      <td>US</td>\n",
       "      <td>Reviewed</td>\n",
       "    </tr>\n",
       "    <tr>\n",
       "      <th>3380</th>\n",
       "      <td>02/23/1975</td>\n",
       "      <td>07:34:11</td>\n",
       "      <td>-10.879</td>\n",
       "      <td>166.667</td>\n",
       "      <td>Earthquake</td>\n",
       "      <td>33.0</td>\n",
       "      <td>NaN</td>\n",
       "      <td>NaN</td>\n",
       "      <td>5.5</td>\n",
       "      <td>MS</td>\n",
       "      <td>...</td>\n",
       "      <td>NaN</td>\n",
       "      <td>NaN</td>\n",
       "      <td>NaN</td>\n",
       "      <td>NaN</td>\n",
       "      <td>NaN</td>\n",
       "      <td>USP0000A0C</td>\n",
       "      <td>US</td>\n",
       "      <td>US</td>\n",
       "      <td>US</td>\n",
       "      <td>Reviewed</td>\n",
       "    </tr>\n",
       "    <tr>\n",
       "      <th>3381</th>\n",
       "      <td>02/25/1975</td>\n",
       "      <td>05:20:05</td>\n",
       "      <td>-7.388</td>\n",
       "      <td>149.798</td>\n",
       "      <td>Earthquake</td>\n",
       "      <td>33.0</td>\n",
       "      <td>NaN</td>\n",
       "      <td>NaN</td>\n",
       "      <td>5.5</td>\n",
       "      <td>MB</td>\n",
       "      <td>...</td>\n",
       "      <td>NaN</td>\n",
       "      <td>NaN</td>\n",
       "      <td>NaN</td>\n",
       "      <td>NaN</td>\n",
       "      <td>NaN</td>\n",
       "      <td>USP0000A12</td>\n",
       "      <td>US</td>\n",
       "      <td>US</td>\n",
       "      <td>US</td>\n",
       "      <td>Reviewed</td>\n",
       "    </tr>\n",
       "    <tr>\n",
       "      <th>3382</th>\n",
       "      <td>02/26/1975</td>\n",
       "      <td>04:48:55</td>\n",
       "      <td>85.047</td>\n",
       "      <td>97.969</td>\n",
       "      <td>Earthquake</td>\n",
       "      <td>33.0</td>\n",
       "      <td>NaN</td>\n",
       "      <td>NaN</td>\n",
       "      <td>5.6</td>\n",
       "      <td>MS</td>\n",
       "      <td>...</td>\n",
       "      <td>NaN</td>\n",
       "      <td>NaN</td>\n",
       "      <td>NaN</td>\n",
       "      <td>NaN</td>\n",
       "      <td>NaN</td>\n",
       "      <td>USP0000A1H</td>\n",
       "      <td>US</td>\n",
       "      <td>US</td>\n",
       "      <td>US</td>\n",
       "      <td>Reviewed</td>\n",
       "    </tr>\n",
       "  </tbody>\n",
       "</table>\n",
       "<p>5 rows × 21 columns</p>\n",
       "</div>"
      ],
      "text/plain": [
       "                          Date                      Time  Latitude  Longitude  \\\n",
       "3378  1975-02-23T02:58:41.000Z  1975-02-23T02:58:41.000Z     8.017    124.075   \n",
       "3379                02/23/1975                  03:53:36   -21.727    -71.356   \n",
       "3380                02/23/1975                  07:34:11   -10.879    166.667   \n",
       "3381                02/25/1975                  05:20:05    -7.388    149.798   \n",
       "3382                02/26/1975                  04:48:55    85.047     97.969   \n",
       "\n",
       "            Type  Depth  Depth Error  Depth Seismic Stations  Magnitude  \\\n",
       "3378  Earthquake  623.0          NaN                     NaN        5.6   \n",
       "3379  Earthquake   33.0          NaN                     NaN        5.6   \n",
       "3380  Earthquake   33.0          NaN                     NaN        5.5   \n",
       "3381  Earthquake   33.0          NaN                     NaN        5.5   \n",
       "3382  Earthquake   33.0          NaN                     NaN        5.6   \n",
       "\n",
       "     Magnitude Type  ...  Magnitude Seismic Stations  Azimuthal Gap  \\\n",
       "3378             MB  ...                         NaN            NaN   \n",
       "3379             MB  ...                         NaN            NaN   \n",
       "3380             MS  ...                         NaN            NaN   \n",
       "3381             MB  ...                         NaN            NaN   \n",
       "3382             MS  ...                         NaN            NaN   \n",
       "\n",
       "      Horizontal Distance  Horizontal Error  Root Mean Square          ID  \\\n",
       "3378                  NaN               NaN               NaN  USP0000A09   \n",
       "3379                  NaN               NaN               NaN  USP0000A0A   \n",
       "3380                  NaN               NaN               NaN  USP0000A0C   \n",
       "3381                  NaN               NaN               NaN  USP0000A12   \n",
       "3382                  NaN               NaN               NaN  USP0000A1H   \n",
       "\n",
       "     Source Location Source Magnitude Source    Status  \n",
       "3378     US              US               US  Reviewed  \n",
       "3379     US              US               US  Reviewed  \n",
       "3380     US              US               US  Reviewed  \n",
       "3381     US              US               US  Reviewed  \n",
       "3382     US              US               US  Reviewed  \n",
       "\n",
       "[5 rows x 21 columns]"
      ]
     },
     "execution_count": 7,
     "metadata": {},
     "output_type": "execute_result"
    }
   ],
   "source": [
    "earthquakes[3378:3383]\n"
   ]
  },
  {
   "cell_type": "markdown",
   "id": "4a8155c8",
   "metadata": {
    "papermill": {
     "duration": 0.025364,
     "end_time": "2021-12-30T16:09:57.500130",
     "exception": false,
     "start_time": "2021-12-30T16:09:57.474766",
     "status": "completed"
    },
    "tags": []
   },
   "source": [
    "This does appear to be an issue with data entry: ideally, all entries in the column have the same format.  We can get an idea of how widespread this issue is by checking the length of each entry in the \"Date\" column."
   ]
  },
  {
   "cell_type": "code",
   "execution_count": 8,
   "id": "3cfd161c",
   "metadata": {
    "execution": {
     "iopub.execute_input": "2021-12-30T16:09:57.554103Z",
     "iopub.status.busy": "2021-12-30T16:09:57.553508Z",
     "iopub.status.idle": "2021-12-30T16:09:57.578544Z",
     "shell.execute_reply": "2021-12-30T16:09:57.579129Z",
     "shell.execute_reply.started": "2021-12-30T15:19:47.147931Z"
    },
    "papermill": {
     "duration": 0.053361,
     "end_time": "2021-12-30T16:09:57.579305",
     "exception": false,
     "start_time": "2021-12-30T16:09:57.525944",
     "status": "completed"
    },
    "tags": []
   },
   "outputs": [
    {
     "data": {
      "text/plain": [
       "10    23409\n",
       "24        3\n",
       "Name: Date, dtype: int64"
      ]
     },
     "execution_count": 8,
     "metadata": {},
     "output_type": "execute_result"
    }
   ],
   "source": [
    "date_lengths = earthquakes.Date.str.len()\n",
    "date_lengths.value_counts()"
   ]
  },
  {
   "cell_type": "markdown",
   "id": "e90c88ab",
   "metadata": {
    "papermill": {
     "duration": 0.025881,
     "end_time": "2021-12-30T16:09:57.631064",
     "exception": false,
     "start_time": "2021-12-30T16:09:57.605183",
     "status": "completed"
    },
    "tags": []
   },
   "source": [
    "Looks like there are three more rows that has a date in a different format.  Run the code cell below to obtain the indices corresponding to those rows and print the data."
   ]
  },
  {
   "cell_type": "code",
   "execution_count": 9,
   "id": "db33eedc",
   "metadata": {
    "execution": {
     "iopub.execute_input": "2021-12-30T16:09:57.684551Z",
     "iopub.status.busy": "2021-12-30T16:09:57.683970Z",
     "iopub.status.idle": "2021-12-30T16:09:57.710396Z",
     "shell.execute_reply": "2021-12-30T16:09:57.710999Z",
     "shell.execute_reply.started": "2021-12-30T15:19:47.180439Z"
    },
    "papermill": {
     "duration": 0.054733,
     "end_time": "2021-12-30T16:09:57.711160",
     "exception": false,
     "start_time": "2021-12-30T16:09:57.656427",
     "status": "completed"
    },
    "tags": []
   },
   "outputs": [
    {
     "name": "stdout",
     "output_type": "stream",
     "text": [
      "Indices with corrupted data: [0 0 0]\n"
     ]
    },
    {
     "data": {
      "text/html": [
       "<div>\n",
       "<style scoped>\n",
       "    .dataframe tbody tr th:only-of-type {\n",
       "        vertical-align: middle;\n",
       "    }\n",
       "\n",
       "    .dataframe tbody tr th {\n",
       "        vertical-align: top;\n",
       "    }\n",
       "\n",
       "    .dataframe thead th {\n",
       "        text-align: right;\n",
       "    }\n",
       "</style>\n",
       "<table border=\"1\" class=\"dataframe\">\n",
       "  <thead>\n",
       "    <tr style=\"text-align: right;\">\n",
       "      <th></th>\n",
       "      <th>Date</th>\n",
       "      <th>Time</th>\n",
       "      <th>Latitude</th>\n",
       "      <th>Longitude</th>\n",
       "      <th>Type</th>\n",
       "      <th>Depth</th>\n",
       "      <th>Depth Error</th>\n",
       "      <th>Depth Seismic Stations</th>\n",
       "      <th>Magnitude</th>\n",
       "      <th>Magnitude Type</th>\n",
       "      <th>...</th>\n",
       "      <th>Magnitude Seismic Stations</th>\n",
       "      <th>Azimuthal Gap</th>\n",
       "      <th>Horizontal Distance</th>\n",
       "      <th>Horizontal Error</th>\n",
       "      <th>Root Mean Square</th>\n",
       "      <th>ID</th>\n",
       "      <th>Source</th>\n",
       "      <th>Location Source</th>\n",
       "      <th>Magnitude Source</th>\n",
       "      <th>Status</th>\n",
       "    </tr>\n",
       "  </thead>\n",
       "  <tbody>\n",
       "    <tr>\n",
       "      <th>0</th>\n",
       "      <td>01/02/1965</td>\n",
       "      <td>13:44:18</td>\n",
       "      <td>19.246</td>\n",
       "      <td>145.616</td>\n",
       "      <td>Earthquake</td>\n",
       "      <td>131.6</td>\n",
       "      <td>NaN</td>\n",
       "      <td>NaN</td>\n",
       "      <td>6.0</td>\n",
       "      <td>MW</td>\n",
       "      <td>...</td>\n",
       "      <td>NaN</td>\n",
       "      <td>NaN</td>\n",
       "      <td>NaN</td>\n",
       "      <td>NaN</td>\n",
       "      <td>NaN</td>\n",
       "      <td>ISCGEM860706</td>\n",
       "      <td>ISCGEM</td>\n",
       "      <td>ISCGEM</td>\n",
       "      <td>ISCGEM</td>\n",
       "      <td>Automatic</td>\n",
       "    </tr>\n",
       "    <tr>\n",
       "      <th>0</th>\n",
       "      <td>01/02/1965</td>\n",
       "      <td>13:44:18</td>\n",
       "      <td>19.246</td>\n",
       "      <td>145.616</td>\n",
       "      <td>Earthquake</td>\n",
       "      <td>131.6</td>\n",
       "      <td>NaN</td>\n",
       "      <td>NaN</td>\n",
       "      <td>6.0</td>\n",
       "      <td>MW</td>\n",
       "      <td>...</td>\n",
       "      <td>NaN</td>\n",
       "      <td>NaN</td>\n",
       "      <td>NaN</td>\n",
       "      <td>NaN</td>\n",
       "      <td>NaN</td>\n",
       "      <td>ISCGEM860706</td>\n",
       "      <td>ISCGEM</td>\n",
       "      <td>ISCGEM</td>\n",
       "      <td>ISCGEM</td>\n",
       "      <td>Automatic</td>\n",
       "    </tr>\n",
       "    <tr>\n",
       "      <th>0</th>\n",
       "      <td>01/02/1965</td>\n",
       "      <td>13:44:18</td>\n",
       "      <td>19.246</td>\n",
       "      <td>145.616</td>\n",
       "      <td>Earthquake</td>\n",
       "      <td>131.6</td>\n",
       "      <td>NaN</td>\n",
       "      <td>NaN</td>\n",
       "      <td>6.0</td>\n",
       "      <td>MW</td>\n",
       "      <td>...</td>\n",
       "      <td>NaN</td>\n",
       "      <td>NaN</td>\n",
       "      <td>NaN</td>\n",
       "      <td>NaN</td>\n",
       "      <td>NaN</td>\n",
       "      <td>ISCGEM860706</td>\n",
       "      <td>ISCGEM</td>\n",
       "      <td>ISCGEM</td>\n",
       "      <td>ISCGEM</td>\n",
       "      <td>Automatic</td>\n",
       "    </tr>\n",
       "  </tbody>\n",
       "</table>\n",
       "<p>3 rows × 21 columns</p>\n",
       "</div>"
      ],
      "text/plain": [
       "         Date      Time  Latitude  Longitude        Type  Depth  Depth Error  \\\n",
       "0  01/02/1965  13:44:18    19.246    145.616  Earthquake  131.6          NaN   \n",
       "0  01/02/1965  13:44:18    19.246    145.616  Earthquake  131.6          NaN   \n",
       "0  01/02/1965  13:44:18    19.246    145.616  Earthquake  131.6          NaN   \n",
       "\n",
       "   Depth Seismic Stations  Magnitude Magnitude Type  ...  \\\n",
       "0                     NaN        6.0             MW  ...   \n",
       "0                     NaN        6.0             MW  ...   \n",
       "0                     NaN        6.0             MW  ...   \n",
       "\n",
       "   Magnitude Seismic Stations  Azimuthal Gap  Horizontal Distance  \\\n",
       "0                         NaN            NaN                  NaN   \n",
       "0                         NaN            NaN                  NaN   \n",
       "0                         NaN            NaN                  NaN   \n",
       "\n",
       "   Horizontal Error  Root Mean Square            ID  Source Location Source  \\\n",
       "0               NaN               NaN  ISCGEM860706  ISCGEM          ISCGEM   \n",
       "0               NaN               NaN  ISCGEM860706  ISCGEM          ISCGEM   \n",
       "0               NaN               NaN  ISCGEM860706  ISCGEM          ISCGEM   \n",
       "\n",
       "  Magnitude Source     Status  \n",
       "0           ISCGEM  Automatic  \n",
       "0           ISCGEM  Automatic  \n",
       "0           ISCGEM  Automatic  \n",
       "\n",
       "[3 rows x 21 columns]"
      ]
     },
     "execution_count": 9,
     "metadata": {},
     "output_type": "execute_result"
    }
   ],
   "source": [
    "indices = np.where([date_lengths == 24])[0]\n",
    "print('Indices with corrupted data:', indices)\n",
    "earthquakes.loc[indices]"
   ]
  },
  {
   "cell_type": "markdown",
   "id": "05a14cb3",
   "metadata": {
    "papermill": {
     "duration": 0.026554,
     "end_time": "2021-12-30T16:09:57.764098",
     "exception": false,
     "start_time": "2021-12-30T16:09:57.737544",
     "status": "completed"
    },
    "tags": []
   },
   "source": [
    "Given all of this information, it's your turn to create a new column \"date_parsed\" in the `earthquakes` dataset that has correctly parsed dates in it.  \n",
    "\n",
    "**Note**: When completing this problem, you are allowed to (but are not required to) amend the entries in the \"Date\" and \"Time\" columns.  Do not remove any rows from the dataset."
   ]
  },
  {
   "cell_type": "code",
   "execution_count": 10,
   "id": "f2a3410d",
   "metadata": {
    "execution": {
     "iopub.execute_input": "2021-12-30T16:09:57.819755Z",
     "iopub.status.busy": "2021-12-30T16:09:57.819138Z",
     "iopub.status.idle": "2021-12-30T16:09:57.887933Z",
     "shell.execute_reply": "2021-12-30T16:09:57.888503Z",
     "shell.execute_reply.started": "2021-12-30T15:19:47.218256Z"
    },
    "papermill": {
     "duration": 0.098146,
     "end_time": "2021-12-30T16:09:57.888697",
     "exception": false,
     "start_time": "2021-12-30T16:09:57.790551",
     "status": "completed"
    },
    "tags": []
   },
   "outputs": [
    {
     "data": {
      "application/javascript": [
       "parent.postMessage({\"jupyterEvent\": \"custom.exercise_interaction\", \"data\": {\"outcomeType\": 1, \"valueTowardsCompletion\": 0.25, \"interactionType\": 1, \"questionType\": 2, \"questionId\": \"2_ConvertToDatetime\", \"learnToolsVersion\": \"0.3.4\", \"failureMessage\": \"\", \"exceptionClass\": \"\", \"trace\": \"\"}}, \"*\")"
      ],
      "text/plain": [
       "<IPython.core.display.Javascript object>"
      ]
     },
     "metadata": {},
     "output_type": "display_data"
    },
    {
     "data": {
      "text/markdown": [
       "<span style=\"color:#33cc33\">Correct</span>"
      ],
      "text/plain": [
       "Correct"
      ]
     },
     "metadata": {},
     "output_type": "display_data"
    }
   ],
   "source": [
    "earthquakes.loc[3378, \"Date\"] = \"02/23/1975\"\n",
    "earthquakes.loc[7512, \"Date\"] = \"04/28/1985\"\n",
    "earthquakes.loc[20650, \"Date\"] = \"03/13/2011\"\n",
    "earthquakes['date_parsed'] = pd.to_datetime(earthquakes['Date'], format=\"%m/%d/%Y\")\n",
    "\n",
    "# Check your answer\n",
    "q2.check()"
   ]
  },
  {
   "cell_type": "code",
   "execution_count": 11,
   "id": "a3369fc2",
   "metadata": {
    "execution": {
     "iopub.execute_input": "2021-12-30T16:09:57.946694Z",
     "iopub.status.busy": "2021-12-30T16:09:57.946084Z",
     "iopub.status.idle": "2021-12-30T16:09:57.948908Z",
     "shell.execute_reply": "2021-12-30T16:09:57.949473Z",
     "shell.execute_reply.started": "2021-12-30T15:19:47.292131Z"
    },
    "papermill": {
     "duration": 0.033471,
     "end_time": "2021-12-30T16:09:57.949639",
     "exception": false,
     "start_time": "2021-12-30T16:09:57.916168",
     "status": "completed"
    },
    "tags": []
   },
   "outputs": [],
   "source": [
    "# Lines below will give you a hint or solution code\n",
    "#q2.hint()\n",
    "# q2.solution()"
   ]
  },
  {
   "cell_type": "markdown",
   "id": "9f0f47bf",
   "metadata": {
    "papermill": {
     "duration": 0.026933,
     "end_time": "2021-12-30T16:09:58.004253",
     "exception": false,
     "start_time": "2021-12-30T16:09:57.977320",
     "status": "completed"
    },
    "tags": []
   },
   "source": [
    "# 3) Select the day of the month\n",
    "\n",
    "Create a Pandas Series `day_of_month_earthquakes` containing the day of the month from the \"date_parsed\" column."
   ]
  },
  {
   "cell_type": "code",
   "execution_count": 12,
   "id": "403651c5",
   "metadata": {
    "execution": {
     "iopub.execute_input": "2021-12-30T16:09:58.063866Z",
     "iopub.status.busy": "2021-12-30T16:09:58.063208Z",
     "iopub.status.idle": "2021-12-30T16:09:58.073171Z",
     "shell.execute_reply": "2021-12-30T16:09:58.072669Z",
     "shell.execute_reply.started": "2021-12-30T15:19:47.299076Z"
    },
    "papermill": {
     "duration": 0.04032,
     "end_time": "2021-12-30T16:09:58.073303",
     "exception": false,
     "start_time": "2021-12-30T16:09:58.032983",
     "status": "completed"
    },
    "tags": []
   },
   "outputs": [
    {
     "data": {
      "application/javascript": [
       "parent.postMessage({\"jupyterEvent\": \"custom.exercise_interaction\", \"data\": {\"outcomeType\": 1, \"valueTowardsCompletion\": 0.25, \"interactionType\": 1, \"questionType\": 1, \"questionId\": \"3_DayOfMonth\", \"learnToolsVersion\": \"0.3.4\", \"failureMessage\": \"\", \"exceptionClass\": \"\", \"trace\": \"\"}}, \"*\")"
      ],
      "text/plain": [
       "<IPython.core.display.Javascript object>"
      ]
     },
     "metadata": {},
     "output_type": "display_data"
    },
    {
     "data": {
      "text/markdown": [
       "<span style=\"color:#33cc33\">Correct</span>"
      ],
      "text/plain": [
       "Correct"
      ]
     },
     "metadata": {},
     "output_type": "display_data"
    }
   ],
   "source": [
    "# try to get the day of the month from the date column\n",
    "day_of_month_earthquakes =  earthquakes['date_parsed'].dt.day\n",
    "\n",
    "# Check your answer\n",
    "q3.check()"
   ]
  },
  {
   "cell_type": "code",
   "execution_count": 13,
   "id": "e25c2b6d",
   "metadata": {
    "execution": {
     "iopub.execute_input": "2021-12-30T16:09:58.132694Z",
     "iopub.status.busy": "2021-12-30T16:09:58.132114Z",
     "iopub.status.idle": "2021-12-30T16:09:58.134751Z",
     "shell.execute_reply": "2021-12-30T16:09:58.135269Z",
     "shell.execute_reply.started": "2021-12-30T15:19:47.318367Z"
    },
    "papermill": {
     "duration": 0.033793,
     "end_time": "2021-12-30T16:09:58.135431",
     "exception": false,
     "start_time": "2021-12-30T16:09:58.101638",
     "status": "completed"
    },
    "tags": []
   },
   "outputs": [],
   "source": [
    "# Lines below will give you a hint or solution code\n",
    "#q3.hint()\n",
    "#q3.solution()"
   ]
  },
  {
   "cell_type": "markdown",
   "id": "b632a125",
   "metadata": {
    "papermill": {
     "duration": 0.028046,
     "end_time": "2021-12-30T16:09:58.191974",
     "exception": false,
     "start_time": "2021-12-30T16:09:58.163928",
     "status": "completed"
    },
    "tags": []
   },
   "source": [
    "# 4) Plot the day of the month to check the date parsing\n",
    "\n",
    "Plot the days of the month from your earthquake dataset."
   ]
  },
  {
   "cell_type": "code",
   "execution_count": 14,
   "id": "5d9e6f42",
   "metadata": {
    "execution": {
     "iopub.execute_input": "2021-12-30T16:09:58.251189Z",
     "iopub.status.busy": "2021-12-30T16:09:58.250585Z",
     "iopub.status.idle": "2021-12-30T16:09:58.253574Z",
     "shell.execute_reply": "2021-12-30T16:09:58.254097Z",
     "shell.execute_reply.started": "2021-12-30T15:19:47.327261Z"
    },
    "papermill": {
     "duration": 0.034107,
     "end_time": "2021-12-30T16:09:58.254240",
     "exception": false,
     "start_time": "2021-12-30T16:09:58.220133",
     "status": "completed"
    },
    "tags": []
   },
   "outputs": [],
   "source": [
    "# TODO: Your code here!\n"
   ]
  },
  {
   "cell_type": "markdown",
   "id": "6bd706b7",
   "metadata": {
    "papermill": {
     "duration": 0.028498,
     "end_time": "2021-12-30T16:09:58.311294",
     "exception": false,
     "start_time": "2021-12-30T16:09:58.282796",
     "status": "completed"
    },
    "tags": []
   },
   "source": [
    "Does the graph make sense to you?"
   ]
  },
  {
   "cell_type": "code",
   "execution_count": 15,
   "id": "65df6771",
   "metadata": {
    "execution": {
     "iopub.execute_input": "2021-12-30T16:09:58.371832Z",
     "iopub.status.busy": "2021-12-30T16:09:58.371197Z",
     "iopub.status.idle": "2021-12-30T16:09:58.376496Z",
     "shell.execute_reply": "2021-12-30T16:09:58.377033Z",
     "shell.execute_reply.started": "2021-12-30T15:19:47.334455Z"
    },
    "papermill": {
     "duration": 0.037303,
     "end_time": "2021-12-30T16:09:58.377189",
     "exception": false,
     "start_time": "2021-12-30T16:09:58.339886",
     "status": "completed"
    },
    "tags": []
   },
   "outputs": [
    {
     "data": {
      "application/javascript": [
       "parent.postMessage({\"jupyterEvent\": \"custom.exercise_interaction\", \"data\": {\"outcomeType\": 1, \"valueTowardsCompletion\": 0.25, \"interactionType\": 1, \"questionType\": 4, \"questionId\": \"4_PlotDayOfMonth\", \"learnToolsVersion\": \"0.3.4\", \"failureMessage\": \"\", \"exceptionClass\": \"\", \"trace\": \"\"}}, \"*\")"
      ],
      "text/plain": [
       "<IPython.core.display.Javascript object>"
      ]
     },
     "metadata": {},
     "output_type": "display_data"
    },
    {
     "data": {
      "text/markdown": [
       "<span style=\"color:#33cc33\">Correct:</span> \n",
       "\n",
       "The graph should make sense: it shows a relatively even distribution in days of the month,which is what we would expect."
      ],
      "text/plain": [
       "Correct: \n",
       "\n",
       "The graph should make sense: it shows a relatively even distribution in days of the month,which is what we would expect."
      ]
     },
     "metadata": {},
     "output_type": "display_data"
    }
   ],
   "source": [
    "# Check your answer (Run this code cell to receive credit!)\n",
    "q4.check()"
   ]
  },
  {
   "cell_type": "code",
   "execution_count": 16,
   "id": "5c6efafa",
   "metadata": {
    "execution": {
     "iopub.execute_input": "2021-12-30T16:09:58.438935Z",
     "iopub.status.busy": "2021-12-30T16:09:58.438288Z",
     "iopub.status.idle": "2021-12-30T16:09:58.440665Z",
     "shell.execute_reply": "2021-12-30T16:09:58.441129Z",
     "shell.execute_reply.started": "2021-12-30T15:19:47.347984Z"
    },
    "papermill": {
     "duration": 0.034865,
     "end_time": "2021-12-30T16:09:58.441275",
     "exception": false,
     "start_time": "2021-12-30T16:09:58.406410",
     "status": "completed"
    },
    "tags": []
   },
   "outputs": [],
   "source": [
    "# Line below will give you a hint\n",
    "#q4.hint()"
   ]
  },
  {
   "cell_type": "markdown",
   "id": "14548b1b",
   "metadata": {
    "papermill": {
     "duration": 0.029259,
     "end_time": "2021-12-30T16:09:58.499986",
     "exception": false,
     "start_time": "2021-12-30T16:09:58.470727",
     "status": "completed"
    },
    "tags": []
   },
   "source": [
    "# (Optional) Bonus Challenge\n",
    "\n",
    "For an extra challenge, you'll work with a [Smithsonian dataset](https://www.kaggle.com/smithsonian/volcanic-eruptions) that documents Earth's volcanoes and their eruptive history over the past 10,000 years \n",
    "\n",
    "Run the next code cell to load the data."
   ]
  },
  {
   "cell_type": "code",
   "execution_count": 17,
   "id": "fe5455cd",
   "metadata": {
    "execution": {
     "iopub.execute_input": "2021-12-30T16:09:58.561648Z",
     "iopub.status.busy": "2021-12-30T16:09:58.561025Z",
     "iopub.status.idle": "2021-12-30T16:09:58.585498Z",
     "shell.execute_reply": "2021-12-30T16:09:58.585982Z",
     "shell.execute_reply.started": "2021-12-30T15:19:47.355175Z"
    },
    "papermill": {
     "duration": 0.056809,
     "end_time": "2021-12-30T16:09:58.586153",
     "exception": false,
     "start_time": "2021-12-30T16:09:58.529344",
     "status": "completed"
    },
    "tags": []
   },
   "outputs": [],
   "source": [
    "volcanos = pd.read_csv(\"../input/volcanic-eruptions/database.csv\")"
   ]
  },
  {
   "cell_type": "markdown",
   "id": "04ec2e55",
   "metadata": {
    "papermill": {
     "duration": 0.029675,
     "end_time": "2021-12-30T16:09:58.645536",
     "exception": false,
     "start_time": "2021-12-30T16:09:58.615861",
     "status": "completed"
    },
    "tags": []
   },
   "source": [
    "Try parsing the column \"Last Known Eruption\" from the `volcanos` dataframe. This column contains a mixture of text (\"Unknown\") and years both before the common era (BCE, also known as BC) and in the common era (CE, also known as AD)."
   ]
  },
  {
   "cell_type": "code",
   "execution_count": 18,
   "id": "0b01a8ed",
   "metadata": {
    "execution": {
     "iopub.execute_input": "2021-12-30T16:09:58.710062Z",
     "iopub.status.busy": "2021-12-30T16:09:58.709421Z",
     "iopub.status.idle": "2021-12-30T16:09:58.714022Z",
     "shell.execute_reply": "2021-12-30T16:09:58.714484Z",
     "shell.execute_reply.started": "2021-12-30T15:19:47.379138Z"
    },
    "papermill": {
     "duration": 0.039827,
     "end_time": "2021-12-30T16:09:58.714654",
     "exception": false,
     "start_time": "2021-12-30T16:09:58.674827",
     "status": "completed"
    },
    "tags": []
   },
   "outputs": [
    {
     "data": {
      "text/plain": [
       "764     Unknown\n",
       "1069    1996 CE\n",
       "34      1855 CE\n",
       "489     2016 CE\n",
       "9       1302 CE\n",
       "Name: Last Known Eruption, dtype: object"
      ]
     },
     "execution_count": 18,
     "metadata": {},
     "output_type": "execute_result"
    }
   ],
   "source": [
    "volcanos['Last Known Eruption'].sample(5)"
   ]
  },
  {
   "cell_type": "markdown",
   "id": "567652a7",
   "metadata": {
    "papermill": {
     "duration": 0.029044,
     "end_time": "2021-12-30T16:09:58.773152",
     "exception": false,
     "start_time": "2021-12-30T16:09:58.744108",
     "status": "completed"
    },
    "tags": []
   },
   "source": [
    "# (Optional) More practice\n",
    "\n",
    "If you're interested in graphing time series, [check out this tutorial](https://www.kaggle.com/residentmario/time-series-plotting-optional).\n",
    "\n",
    "You can also look into passing columns that you know have dates in them  the `parse_dates` argument in `read_csv`. (The documention [is here](https://pandas.pydata.org/pandas-docs/stable/generated/pandas.read_csv.html).) Do note that this method can be very slow, but depending on your needs it may sometimes be handy to use.\n",
    "\n",
    "# Keep going\n",
    "\n",
    "In the next lesson, learn how to [**work with character encodings**](https://www.kaggle.com/alexisbcook/character-encodings)."
   ]
  },
  {
   "cell_type": "markdown",
   "id": "13b7363e",
   "metadata": {
    "papermill": {
     "duration": 0.029175,
     "end_time": "2021-12-30T16:09:58.831986",
     "exception": false,
     "start_time": "2021-12-30T16:09:58.802811",
     "status": "completed"
    },
    "tags": []
   },
   "source": [
    "---\n",
    "\n",
    "\n",
    "\n",
    "\n",
    "*Have questions or comments? Visit the [course discussion forum](https://www.kaggle.com/learn/data-cleaning/discussion) to chat with other learners.*"
   ]
  }
 ],
 "metadata": {
  "kernelspec": {
   "display_name": "Python 3",
   "language": "python",
   "name": "python3"
  },
  "language_info": {
   "codemirror_mode": {
    "name": "ipython",
    "version": 3
   },
   "file_extension": ".py",
   "mimetype": "text/x-python",
   "name": "python",
   "nbconvert_exporter": "python",
   "pygments_lexer": "ipython3",
   "version": "3.7.12"
  },
  "papermill": {
   "default_parameters": {},
   "duration": 13.4722,
   "end_time": "2021-12-30T16:09:59.471167",
   "environment_variables": {},
   "exception": null,
   "input_path": "__notebook__.ipynb",
   "output_path": "__notebook__.ipynb",
   "parameters": {},
   "start_time": "2021-12-30T16:09:45.998967",
   "version": "2.3.3"
  }
 },
 "nbformat": 4,
 "nbformat_minor": 5
}
